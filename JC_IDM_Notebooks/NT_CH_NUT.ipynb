{
 "cells": [
  {
   "cell_type": "code",
   "execution_count": 0,
   "metadata": {
    "application/vnd.databricks.v1+cell": {
     "cellMetadata": {
      "byteLimit": 2048000,
      "rowLimit": 10000
     },
     "inputWidgets": {},
     "nuid": "89dc176b-4ff0-48d1-b4d6-bf8cf86e88f6",
     "showTitle": false,
     "tableResultSettingsMap": {},
     "title": ""
    }
   },
   "outputs": [],
   "source": [
    "pacman::p_load(SparkR, dplyr, labelled, haven, sf, stringr, naniar)"
   ]
  },
  {
   "cell_type": "markdown",
   "metadata": {
    "application/vnd.databricks.v1+cell": {
     "cellMetadata": {
      "byteLimit": 2048000,
      "rowLimit": 10000
     },
     "inputWidgets": {},
     "nuid": "cb318426-2dc8-45e9-8e04-cd6401362587",
     "showTitle": false,
     "tableResultSettingsMap": {},
     "title": ""
    }
   },
   "source": [
    "#### Import GADM gpkg"
   ]
  },
  {
   "cell_type": "code",
   "execution_count": 0,
   "metadata": {
    "application/vnd.databricks.v1+cell": {
     "cellMetadata": {
      "byteLimit": 2048000,
      "rowLimit": 10000
     },
     "inputWidgets": {},
     "nuid": "98018e04-b3e4-44a0-960b-d688063b1549",
     "showTitle": false,
     "tableResultSettingsMap": {},
     "title": ""
    }
   },
   "outputs": [],
   "source": [
    "read_path = \"/Volumes/idm_dhs/dhs_data/dhs_data_shp/gadm_410.gpkg\"\n",
    "\n",
    "gadm <- st_read(read_path)\n",
    "\n",
    "str(gadm)"
   ]
  },
  {
   "cell_type": "code",
   "execution_count": 0,
   "metadata": {
    "application/vnd.databricks.v1+cell": {
     "cellMetadata": {
      "byteLimit": 2048000,
      "rowLimit": 10000
     },
     "inputWidgets": {},
     "nuid": "9790b013-3b11-4fa1-8b95-44a5fdbc4937",
     "showTitle": false,
     "tableResultSettingsMap": {},
     "title": ""
    }
   },
   "outputs": [],
   "source": [
    "gadm1 <- gadm %>%\n",
    "  dplyr::mutate(across(c(GID_0, GID_1, GID_2, GID_3, GID_4, GID_5), ~ str_remove_all(.x, pattern = fixed(\" \")))) %>%\n",
    "  dplyr::mutate(across(c(-geom), as.character)) %>%\n",
    "  dplyr::mutate(across(c(-geom), na_if, \"\")) %>%\n",
    "  dplyr::mutate(GID_n = ifelse(is.na(GID_5), GID_4, GID_5),\n",
    "         GID_n = ifelse(is.na(GID_4), GID_3, GID_n),\n",
    "         GID_n = ifelse(is.na(GID_3), GID_2, GID_n),\n",
    "         GID_n = ifelse(is.na(GID_2), GID_1, GID_n),\n",
    "         GID_n = ifelse(is.na(GID_1), GID_0, GID_n)) %>%\n",
    "  dplyr::filter(GID_0 == \"NGA\")\n",
    "\n",
    "str(gadm1)"
   ]
  },
  {
   "cell_type": "markdown",
   "metadata": {
    "application/vnd.databricks.v1+cell": {
     "cellMetadata": {
      "byteLimit": 2048000,
      "rowLimit": 10000
     },
     "inputWidgets": {},
     "nuid": "956ce7af-3bb6-4349-8368-ad61b444d429",
     "showTitle": false,
     "tableResultSettingsMap": {},
     "title": ""
    }
   },
   "source": [
    "#### Import DHS GPS data"
   ]
  },
  {
   "cell_type": "code",
   "execution_count": 0,
   "metadata": {
    "application/vnd.databricks.v1+cell": {
     "cellMetadata": {
      "byteLimit": 2048000,
      "rowLimit": 10000
     },
     "inputWidgets": {},
     "nuid": "f66337c4-334a-40b1-8533-4ce2466961dd",
     "showTitle": false,
     "tableResultSettingsMap": {},
     "title": ""
    }
   },
   "outputs": [],
   "source": [
    "shp_files <- c(\"NGGE23FL\", \"NGGE4BFL\", \"NGGE52FL\", \"NGGE61FL\", \"NGGE6AFL\", \"NGGE71FL\", \"NGGE7BFL\", \"NGGE81FL\")\n",
    "\n",
    "# READ IN GEOSPATIAL FILES AND BIND TOGETHER TO CREATE A SINGLE FILE\n",
    "pts_comb <- data.frame()\n",
    "for (gf in shp_files){\n",
    "  read_path = paste0(\"/Volumes/idm_dhs/dhs_data/dhs_data_shp/\", gf, \"/\", gf, \".shp\")\n",
    "  pts <- st_read(read_path, quiet=TRUE) %>%\n",
    "    st_make_valid() %>%\n",
    "    dplyr::mutate(geo_file = gf,\n",
    "                  survey = paste0(substr(gf, 1, 2), substr(gf, nchar(gf) - 3, nchar(gf)))) %>%\n",
    "    dplyr::mutate(across(c(-geometry), ~ case_when(. == \"NULL\" ~ NA,\n",
    "                                                   TRUE ~ .)))\n",
    "  pts_comb <- rbind(pts_comb, pts)\n",
    "  print(gf)\n",
    "}\n",
    "\n",
    "pts_comb <- pts_comb %>%\n",
    "  dplyr::mutate(survey = case_when(survey == \"NG23FL\" ~ \"NG21FL\",\n",
    "                                   survey == \"NG52FL\" ~ \"NG53FL\",\n",
    "                                   TRUE ~ survey))\n",
    "\n",
    "pts_comb1 <- st_join(pts_comb, gadm1, join=st_within) %>%\n",
    "  dplyr::mutate(cluster_lon = sf::st_coordinates(.)[,1],\n",
    "                cluster_lat = sf::st_coordinates(.)[,2]) %>%\n",
    "  st_drop_geometry() %>%\n",
    "  dplyr::select(survey, geo_file, DHSCC, DHSYEAR, DHSCLUST, GID_0, NAME_1, cluster_lon, cluster_lat) %>%\n",
    "  distinct() %>%\n",
    "  setNames(c(\"survey\", \"geo_file\", \"dhs_cc\", \"survey_year\", \"v001\", \"iso_code\", \"admin1\", \"cluster_lon\", \"cluster_lat\"))\n",
    "\n",
    "str(pts_comb1)"
   ]
  },
  {
   "cell_type": "markdown",
   "metadata": {
    "application/vnd.databricks.v1+cell": {
     "cellMetadata": {
      "byteLimit": 2048000,
      "rowLimit": 10000
     },
     "inputWidgets": {},
     "nuid": "06491e53-7b75-4142-b83e-f9fc88da0588",
     "showTitle": false,
     "tableResultSettingsMap": {},
     "title": ""
    }
   },
   "source": [
    "### Import DHS PR data"
   ]
  },
  {
   "cell_type": "code",
   "execution_count": 0,
   "metadata": {
    "application/vnd.databricks.v1+cell": {
     "cellMetadata": {
      "byteLimit": 2048000,
      "rowLimit": 10000
     },
     "inputWidgets": {},
     "nuid": "186e32ae-bc08-4590-8e20-8a6c0ed5b0b6",
     "showTitle": false,
     "tableResultSettingsMap": {},
     "title": ""
    }
   },
   "outputs": [],
   "source": [
    "db = \"nga\"\n",
    "df_tables <- SparkR::sql(paste0(\"SHOW TABLES IN idm_dhs.\", db)) %>% as.data.frame()\n",
    "\n",
    "df_tables_pr <- df_tables %>%\n",
    "  filter(grepl('pr', tableName)) %>%\n",
    "  mutate(table_name = paste0(database, \".\", tableName))\n",
    "\n",
    "display(df_tables_pr)"
   ]
  },
  {
   "cell_type": "code",
   "execution_count": 0,
   "metadata": {
    "application/vnd.databricks.v1+cell": {
     "cellMetadata": {
      "byteLimit": 2048000,
      "rowLimit": 10000
     },
     "inputWidgets": {},
     "nuid": "1371350f-4d3f-4b69-ae39-86de14275f13",
     "showTitle": false,
     "tableResultSettingsMap": {},
     "title": ""
    }
   },
   "outputs": [],
   "source": [
    "raw_dta_folder = \"/Volumes/idm_dhs/dhs_data/dhs_data_dta\"\n",
    "file_list <- list()\n",
    "for (file_name in dbutils.fs.ls(raw_dta_folder)){\n",
    "  file_list <- append(file_list, file_name$name)\n",
    "}\n",
    "\n",
    "df_file_list <- data.frame(file_name = unlist(file_list))\n",
    "\n",
    "df_file_list <- df_file_list %>%\n",
    "  filter(startsWith(toupper(file_name), \"NGPR\"))\n",
    "\n",
    "display(df_file_list)"
   ]
  },
  {
   "cell_type": "code",
   "execution_count": 0,
   "metadata": {
    "application/vnd.databricks.v1+cell": {
     "cellMetadata": {
      "byteLimit": 2048000,
      "rowLimit": 10000
     },
     "inputWidgets": {},
     "nuid": "b2b83b66-c073-4bf5-aa1c-cd081d0d0579",
     "showTitle": false,
     "tableResultSettingsMap": {},
     "title": ""
    }
   },
   "outputs": [],
   "source": [
    "chn_indicators <- data.frame()\n",
    "for (dhs_file in unique(df_file_list$file_name)){\n",
    "  print(dhs_file)\n",
    "\n",
    "  file_path = paste0(\"/Volumes/idm_dhs/dhs_data/dhs_data_dta/\", dhs_file)\n",
    "  PRdata <- read_dta(file_path) %>%\n",
    "    dplyr::mutate(survey = word(dhs_file, 1, sep = \"\\\\.\")) %>%\n",
    "    dplyr::mutate(survey = toupper(paste0(substr(survey, 1, 2), substr(survey, nchar(survey) - 3, nchar(survey)))))\n",
    "\n",
    "\n",
    "# /*****************************************************************************************************\n",
    "# Program: \t\t\tNT_CH_NUT.R\n",
    "# Purpose: \t\t\tCode to compute anthropometry and anemia indicators in children\n",
    "# Data inputs: \tPR dataset\n",
    "# Data outputs:\tcoded variables\n",
    "# Author:\t\t\t\tShireen Assaf\n",
    "# Date last modified: July 31, 2023 by Shireen Assaf \n",
    "# *****************************************************************************************************/\n",
    "# \n",
    "# /*----------------------------------------------------------------------------\n",
    "# Variables created in this file:\n",
    "# nt_ch_sev_stunt\t\t\"Severely stunted child under 5 years\"\n",
    "# nt_ch_stunt\t\t\t  \"Stunted child under 5 years\"\n",
    "# nt_ch_mean_haz\t\t\"Mean z-score for height-for-age for children under 5 years\"\n",
    "# nt_ch_sev_wast\t\t\"Severely wasted child under 5 years\"\n",
    "# nt_ch_wast\t\t\t  \"Wasted child under 5 years\"\n",
    "# nt_ch_ovwt_ht\t\t  \"Overweight for heigt child under 5 years\"\n",
    "# nt_ch_mean_whz\t\t\"Mean z-score for weight-for-height for children under 5 years\"\n",
    "# nt_ch_sev_underwt\t\"Severely underweight child under 5 years\"\n",
    "# nt_ch_underwt\t\t  \"Underweight child under 5 years\"\n",
    "# nt_ch_ovwt_age\t\t\"Overweight for age child under 5 years\"\n",
    "# nt_ch_mean_waz\t\t\"Mean weight-for-age for children under 5 years\"\n",
    "# \t\n",
    "# nt_ch_any_anem\t\t\"Any anemia - child 6-59 months\"\n",
    "# nt_ch_mild_anem\t\t\"Mild anemia - child 6-59 months\"\n",
    "# nt_ch_mod_anem\t\t\"Moderate anemia - child 6-59 months\"\n",
    "# nt_ch_sev_anem\t\t\"Severe anemia - child 6-59 months\"\n",
    "# ----------------------------------------------------------------------------*/\n",
    "# \n",
    "PRdata <- PRdata %>%\n",
    "  mutate(wt = hv005/1000000)\n",
    "\n",
    "# *** Anthropometry indicators ***\n",
    "if (!\"hv103\" %in% names(PRdata)){PRdata$hv103 <- NA}\n",
    "if (!\"hc70\" %in% names(PRdata)){PRdata$hc70 <- NA}\n",
    "if (!\"hc72\" %in% names(PRdata)){PRdata$hc72 <- NA}\n",
    "if (!\"hc71\" %in% names(PRdata)){PRdata$hc71 <- NA}\n",
    "if (!\"hc1\" %in% names(PRdata)){PRdata$hc1 <- NA}\n",
    "if (!\"hc56\" %in% names(PRdata)){PRdata$hc56 <- NA}\n",
    "\n",
    "\n",
    "# //Severely stunted\n",
    "PRdata <- PRdata %>%\n",
    "  mutate(nt_ch_sev_stunt =\n",
    "           case_when(\n",
    "             hv103==1 &  hc70 < -300  ~ 1 ,\n",
    "             hv103==1 &  hc70 >= -300 & hc70 < 9996 ~ 0 ,\n",
    "             hc70 >= 9996 ~ 99)) %>%\n",
    "  replace_with_na(replace = list(nt_ch_sev_stunt = c(99))) %>%\n",
    "  set_value_labels(nt_ch_sev_stunt = c(\"Yes\" = 1, \"No\"=0  )) %>%\n",
    "  set_variable_labels(nt_ch_sev_stunt = \"Severely stunted child under 5 years\")\n",
    "\n",
    "# //Stunted\n",
    "PRdata <- PRdata %>%\n",
    "  mutate(nt_ch_stunt =\n",
    "           case_when(\n",
    "             hv103==1 &  hc70 < -200  ~ 1 ,\n",
    "             hv103==1 &  hc70 >= -200 & hc70 < 9996 ~ 0 ,\n",
    "             hc70 >= 9996 ~ 99)) %>%\n",
    "  replace_with_na(replace = list(nt_ch_stunt = c(99))) %>%\n",
    "  set_value_labels(nt_ch_stunt = c(\"Yes\" = 1, \"No\"=0  )) %>%\n",
    "  set_variable_labels(nt_ch_stunt = \"Stunted child under 5 years\")\n",
    "\n",
    "# //Mean haz\n",
    "PRdata <- PRdata %>%\n",
    "  mutate(haz = case_when(hv103 ==1 & hc70 < 996 ~ hc70/100)) \n",
    "  PRdata$nt_ch_mean_haz <- matrixStats::weightedMean(PRdata$haz, PRdata$wt, idxs = NULL, na.rm = TRUE) \n",
    "\n",
    "# //Severely wasted \n",
    "PRdata <- PRdata %>%\n",
    "  mutate(nt_ch_sev_wast =\n",
    "           case_when(\n",
    "             hv103==1 &  hc72< -300  ~ 1 ,\n",
    "             hv103==1 &  hc72>= -300 & hc72<9996 ~ 0 ,\n",
    "             hc72>=9996 ~ 99)) %>%\n",
    "  replace_with_na(replace = list(nt_ch_sev_wast = c(99))) %>%\n",
    "  set_value_labels(nt_ch_sev_wast = c(\"Yes\" = 1, \"No\"=0  )) %>%\n",
    "  set_variable_labels(nt_ch_sev_wast = \"Severely wasted child under 5 years\")\n",
    "\n",
    "# //Wasted\n",
    "PRdata <- PRdata %>%\n",
    "  mutate(nt_ch_wast =\n",
    "           case_when(\n",
    "             hv103==1 &  hc72< -200  ~ 1 ,\n",
    "             hv103==1 &  hc72>= -200 & hc72<9996~ 0 ,\n",
    "             hc72>=9996 ~ 99)) %>%\n",
    "  replace_with_na(replace = list(nt_ch_wast = c(99))) %>%\n",
    "  set_value_labels(nt_ch_wast = c(\"Yes\" = 1, \"No\"=0  )) %>%\n",
    "  set_variable_labels(nt_ch_wast = \"Wasted child under 5 years\")\n",
    "\n",
    "# //Overweight for height\n",
    "PRdata <- PRdata %>%\n",
    "  mutate(nt_ch_ovwt_ht =\n",
    "           case_when(\n",
    "             hv103==1 &  hc72> 200 & hc72<9996 ~ 1 ,\n",
    "             hv103==1 &  hc72<= 200 & hc72<9996 ~ 0 ,\n",
    "             hc72>=9996 ~ 99)) %>%\n",
    "  replace_with_na(replace = list(nt_ch_ovwt_ht = c(99))) %>%\n",
    "  set_value_labels(nt_ch_ovwt_ht = c(\"Yes\" = 1, \"No\"=0  )) %>%\n",
    "  set_variable_labels(nt_ch_ovwt_ht = \"Overweight for height child under 5 years\")\n",
    "\n",
    "# //Mean whz\n",
    "PRdata <- PRdata %>%\n",
    "  mutate(whz = case_when(hv103 ==1 & hc72<996 ~ hc72/100)) \n",
    "PRdata$nt_ch_mean_whz <- matrixStats::weightedMean(PRdata$whz, PRdata$wt, idxs = NULL, na.rm = TRUE) \n",
    "\n",
    "# //Severely underweight\n",
    "PRdata <- PRdata %>%\n",
    "  mutate(nt_ch_sev_underwt =\n",
    "           case_when(\n",
    "             hv103==1 &  hc71< -300  ~ 1 ,\n",
    "             hv103==1 &  hc71>= -300 & hc71<9996 ~ 0 ,\n",
    "             hc71>=9996 ~ 99)) %>%\n",
    "  replace_with_na(replace = list(nt_ch_sev_underwt = c(99))) %>%\n",
    "  set_value_labels(nt_ch_sev_underwt = c(\"Yes\" = 1, \"No\"=0  )) %>%\n",
    "  set_variable_labels(nt_ch_sev_underwt = \"Severely underweight child under 5 years\")\n",
    "\n",
    "# //Underweight\n",
    "PRdata <- PRdata %>%\n",
    "  mutate(nt_ch_underwt =\n",
    "           case_when(\n",
    "             hv103==1 &  hc71< -200  ~ 1 ,\n",
    "             hv103==1 &  hc71>= -200  & hc71<9996 ~ 0 ,\n",
    "             hc71>=9996 ~ 99)) %>%\n",
    "  replace_with_na(replace = list(nt_ch_underwt = c(99))) %>%\n",
    "  set_value_labels(nt_ch_underwt = c(\"Yes\" = 1, \"No\"=0  )) %>%\n",
    "  set_variable_labels(nt_ch_underwt = \"Underweight child under 5 years\")\n",
    "# \n",
    "# //Overweight for age\n",
    "PRdata <- PRdata %>%\n",
    "  mutate(nt_ch_ovwt_age =\n",
    "           case_when(\n",
    "             hv103==1 &  hc71> 200 & hc71<9996 ~ 1 ,\n",
    "             hv103==1 &  hc71<= 200  & hc71<9996 ~ 0 ,\n",
    "             hc71>=9996 ~ 99)) %>%\n",
    "  replace_with_na(replace = list(nt_ch_ovwt_age = c(99))) %>%\n",
    "  set_value_labels(nt_ch_ovwt_age = c(\"Yes\" = 1, \"No\"=0  )) %>%\n",
    "  set_variable_labels(nt_ch_ovwt_age = \"Overweight for age child under 5 years\")\n",
    "\n",
    "# //Mean waz\n",
    "PRdata <- PRdata %>%\n",
    "  mutate(waz = case_when(hv103 ==1 & hc71<996 ~ hc71/100)) \n",
    "PRdata$nt_ch_mean_waz <- matrixStats::weightedMean(PRdata$waz, PRdata$wt, idxs = NULL, na.rm = TRUE) \n",
    "\n",
    "# *** Anemia indicators ***\n",
    "\n",
    "# //Any anemia\n",
    "PRdata <- PRdata %>%\n",
    "  mutate(nt_ch_any_anem =\n",
    "           case_when(\n",
    "             hv103==1 & hc1>5 & hc1<60 & hc56<110 ~ 1 ,\n",
    "             hv103==1 & hc1>5 & hc1<60 & hc56>=110 ~ 0)) %>%\n",
    "  set_value_labels(nt_ch_any_anem = c(\"Yes\" = 1, \"No\"=0  )) %>%\n",
    "  set_variable_labels(nt_ch_any_anem = \"Any anemia - child 6-59 months\")\n",
    "\n",
    "# //Mild anemia\n",
    "PRdata <- PRdata %>%\n",
    "  mutate(nt_ch_mild_anem =\n",
    "           case_when(\n",
    "             hv103==1 & hc1>5 & hc1<60 & hc56>99 & hc56<110 ~ 1 ,\n",
    "             hv103==1 & hc1>5 & hc1<60 & hc56<=99 | hc56>=110 ~ 0)) %>%\n",
    "  set_value_labels(nt_ch_mild_anem = c(\"Yes\" = 1, \"No\"=0  )) %>%\n",
    "  set_variable_labels(nt_ch_mild_anem = \"Mild anemia - child 6-59 months\")\n",
    "\n",
    "# //Moderate anemia\n",
    "PRdata <- PRdata %>%\n",
    "  mutate(nt_ch_mod_anem =\n",
    "           case_when(\n",
    "             hv103==1 & hc1>5 & hc1<60 & hc56>69 & hc56<100 ~ 1 ,\n",
    "             hv103==1 & hc1>5 & hc1<60 & hc56<=69 | hc56>=100 ~ 0)) %>%\n",
    "  set_value_labels(nt_ch_mod_anem = c(\"Yes\" = 1, \"No\"=0  )) %>%\n",
    "  set_variable_labels(nt_ch_mod_anem = \"Moderate anemia - child 6-59 months\")\n",
    "\n",
    "# //Severe anemia\n",
    "PRdata <- PRdata %>%\n",
    "  mutate(nt_ch_sev_anem =\n",
    "           case_when(\n",
    "             hv103==1 & hc1>5 & hc1<60 & hc56<70 ~ 1 ,\n",
    "             hv103==1 & hc1>5 & hc1<60 & hc56>=70 ~ 0)) %>%\n",
    "  set_value_labels(nt_ch_sev_anem = c(\"Yes\" = 1, \"No\"=0  )) %>%\n",
    "  set_variable_labels(nt_ch_sev_anem = \"Severe anemia - child 6-59 months\")\n",
    "\n",
    "  PRdata <- PRdata %>%\n",
    "    dplyr::select(survey, hhid, hvidx, hv001, hv002, hvidx, wt, hv021, hv023, hv024, hv025, hv103, hc70, nt_ch_sev_stunt, nt_ch_stunt, haz, nt_ch_mean_haz, hc72, nt_ch_sev_wast, nt_ch_wast, nt_ch_ovwt_ht, whz, nt_ch_mean_whz, hc71, nt_ch_sev_underwt, nt_ch_underwt, nt_ch_ovwt_age, waz, nt_ch_mean_waz, hc1, nt_ch_any_anem, hc56, nt_ch_mild_anem, nt_ch_mod_anem, nt_ch_sev_anem) %>%\n",
    "    dplyr::mutate(across(where(is.labelled), as_factor)) %>%\n",
    "    dplyr::mutate_if(is.factor, as.character) %>%\n",
    "    dplyr::mutate_all(as.character) %>%\n",
    "    distinct()\n",
    "\n",
    "chn_indicators <- bind_rows(chn_indicators, PRdata)\n",
    "\n",
    "}"
   ]
  },
  {
   "cell_type": "code",
   "execution_count": 0,
   "metadata": {
    "application/vnd.databricks.v1+cell": {
     "cellMetadata": {
      "byteLimit": 2048000,
      "rowLimit": 10000
     },
     "inputWidgets": {},
     "nuid": "a8677e9a-3f48-4e25-bf86-12271f027d72",
     "showTitle": false,
     "tableResultSettingsMap": {},
     "title": ""
    }
   },
   "outputs": [],
   "source": [
    "# chn_indicators1 <- chn_indicators %>%\n",
    "#   dplyr::select(survey, hhid, hvidx, hv001, hv002, wt, hv021, hv023, hv024, hv025, hv103, hc70, nt_ch_sev_stunt, nt_ch_stunt, haz, nt_ch_mean_haz, hc72, nt_ch_sev_wast, nt_ch_wast, nt_ch_ovwt_ht, whz, nt_ch_mean_whz, hc71, nt_ch_sev_underwt, nt_ch_underwt, nt_ch_ovwt_age, waz, nt_ch_mean_waz, hc1, nt_ch_any_anem, hc56, nt_ch_mild_anem, nt_ch_mod_anem, nt_ch_sev_anem) %>%\n",
    "#   dplyr::mutate(across(where(is.labelled), as_factor)) %>%\n",
    "#   dplyr::mutate_if(is.factor, as.character) %>%\n",
    "#   distinct()\n",
    "\n",
    "chn_indicators1 <- chn_indicators %>%\n",
    "  rename(v001 = hv001,\n",
    "         v002 = hv002) %>%\n",
    "  base::merge(pts_comb1, by=c(\"survey\", \"v001\"), all.x=TRUE) %>%\n",
    "  distinct()\n",
    "\n",
    "display(chn_indicators1)"
   ]
  },
  {
   "cell_type": "code",
   "execution_count": 0,
   "metadata": {
    "application/vnd.databricks.v1+cell": {
     "cellMetadata": {
      "byteLimit": 2048000,
      "rowLimit": 10000
     },
     "inputWidgets": {},
     "nuid": "5be16523-0072-4d92-9cf2-18023a06065b",
     "showTitle": false,
     "tableResultSettingsMap": {},
     "title": ""
    }
   },
   "outputs": [],
   "source": [
    "# THESE HAVE BOGUS GPS COORDINATES, CAN FIX MOST OF THEM BY HAND USING THE SURVEY STRATIFICATION VARIABLES\n",
    "display(\n",
    "  chn_indicators1 %>%\n",
    "  filter(is.na(admin1)) %>%\n",
    "  group_by(survey) %>%\n",
    "  dplyr::summarize(count = n())\n",
    "  )"
   ]
  },
  {
   "cell_type": "code",
   "execution_count": 0,
   "metadata": {
    "application/vnd.databricks.v1+cell": {
     "cellMetadata": {
      "byteLimit": 2048000,
      "rowLimit": 10000
     },
     "inputWidgets": {},
     "nuid": "be04a0b3-4dd5-49bb-96a3-25a68c154ab3",
     "showTitle": false,
     "tableResultSettingsMap": {},
     "title": ""
    }
   },
   "outputs": [],
   "source": [
    "chn_indicators1_sdf <- chn_indicators1 %>%\n",
    "  as.DataFrame()"
   ]
  },
  {
   "cell_type": "code",
   "execution_count": 0,
   "metadata": {
    "application/vnd.databricks.v1+cell": {
     "cellMetadata": {
      "byteLimit": 2048000,
      "rowLimit": 10000
     },
     "inputWidgets": {},
     "nuid": "bd503f23-050d-4905-b105-b5c0afaea44f",
     "showTitle": false,
     "tableResultSettingsMap": {},
     "title": ""
    }
   },
   "outputs": [],
   "source": [
    "delta_path = \"abfss://dhs-data@idmdpdls01.dfs.core.windows.net/dhs_indicators/dhs_nt_ch_nut.delta\"\n",
    "dbutils.fs.rm(delta_path, \"true\")\n",
    "write.df(chn_indicators1_sdf, source = 'delta', path = delta_path, mode = 'overwrite')\n",
    "\n",
    "catalog = \"idm_dhs\"\n",
    "schema = \"dhs_indicators\"\n",
    "table_name = \"dhs_nt_ch_nut\"\n",
    "file_path = delta_path\n",
    "\n",
    "# SparkR::sql(paste0(\"CREATE CATALOG IF NOT EXISTS \", catalog))\n",
    "SparkR::sql(paste0(\"CREATE SCHEMA IF NOT EXISTS \", catalog, \".\", schema))\n",
    "SparkR::sql(paste0(\"DROP TABLE IF EXISTS \", catalog, \".\", schema, \".\", table_name))\n",
    "SparkR::createTable(paste0(catalog, \".\", schema, \".\", table_name), path=file_path, source=\"delta\")\n",
    "print(paste0(catalog, \".\", schema, \".\", table_name))"
   ]
  }
 ],
 "metadata": {
  "application/vnd.databricks.v1+notebook": {
   "computePreferences": null,
   "dashboards": [],
   "environmentMetadata": {
    "base_environment": "",
    "client": "1"
   },
   "language": "r",
   "notebookMetadata": {
    "pythonIndentUnit": 4
   },
   "notebookName": "NT_CH_NUT",
   "widgets": {}
  },
  "language_info": {
   "name": "r"
  }
 },
 "nbformat": 4,
 "nbformat_minor": 0
}
