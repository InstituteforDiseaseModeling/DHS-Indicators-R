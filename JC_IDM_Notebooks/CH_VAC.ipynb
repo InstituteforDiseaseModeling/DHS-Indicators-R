{
 "cells": [
  {
   "cell_type": "code",
   "execution_count": 0,
   "metadata": {
    "application/vnd.databricks.v1+cell": {
     "cellMetadata": {
      "byteLimit": 2048000,
      "rowLimit": 10000
     },
     "inputWidgets": {},
     "nuid": "efc5a3f0-4178-4035-a227-1c71ec0c90cc",
     "showTitle": false,
     "tableResultSettingsMap": {},
     "title": ""
    }
   },
   "outputs": [],
   "source": [
    "pacman::p_load(SparkR, dplyr, labelled, haven, sf, stringr)"
   ]
  },
  {
   "cell_type": "markdown",
   "metadata": {
    "application/vnd.databricks.v1+cell": {
     "cellMetadata": {
      "byteLimit": 2048000,
      "rowLimit": 10000
     },
     "inputWidgets": {},
     "nuid": "183e7d1c-a6a4-416b-a948-ba24055cc3b6",
     "showTitle": false,
     "tableResultSettingsMap": {},
     "title": ""
    }
   },
   "source": [
    "#### Import GADM gpkg"
   ]
  },
  {
   "cell_type": "code",
   "execution_count": 0,
   "metadata": {
    "application/vnd.databricks.v1+cell": {
     "cellMetadata": {
      "byteLimit": 2048000,
      "rowLimit": 10000
     },
     "inputWidgets": {},
     "nuid": "ed9b08a2-9e8a-43d3-9bd2-948763ecf330",
     "showTitle": false,
     "tableResultSettingsMap": {},
     "title": ""
    }
   },
   "outputs": [],
   "source": [
    "read_path = \"/Volumes/idm_dhs/dhs_data/dhs_data_shp/gadm_410.gpkg\"\n",
    "\n",
    "gadm <- st_read(read_path)\n",
    "\n",
    "str(gadm)"
   ]
  },
  {
   "cell_type": "code",
   "execution_count": 0,
   "metadata": {
    "application/vnd.databricks.v1+cell": {
     "cellMetadata": {
      "byteLimit": 2048000,
      "rowLimit": 10000
     },
     "inputWidgets": {},
     "nuid": "38d8a8ad-f35a-44e4-a893-ae8ea038418a",
     "showTitle": false,
     "tableResultSettingsMap": {},
     "title": ""
    }
   },
   "outputs": [],
   "source": [
    "gadm1 <- gadm %>%\n",
    "  dplyr::mutate(across(c(GID_0, GID_1, GID_2, GID_3, GID_4, GID_5), ~ str_remove_all(.x, pattern = fixed(\" \")))) %>%\n",
    "  dplyr::mutate(across(c(-geom), as.character)) %>%\n",
    "  dplyr::mutate(across(c(-geom), na_if, \"\")) %>%\n",
    "  dplyr::mutate(GID_n = ifelse(is.na(GID_5), GID_4, GID_5),\n",
    "         GID_n = ifelse(is.na(GID_4), GID_3, GID_n),\n",
    "         GID_n = ifelse(is.na(GID_3), GID_2, GID_n),\n",
    "         GID_n = ifelse(is.na(GID_2), GID_1, GID_n),\n",
    "         GID_n = ifelse(is.na(GID_1), GID_0, GID_n)) %>%\n",
    "  dplyr::filter(GID_0 == \"NGA\")\n",
    "\n",
    "str(gadm1)"
   ]
  },
  {
   "cell_type": "markdown",
   "metadata": {
    "application/vnd.databricks.v1+cell": {
     "cellMetadata": {
      "byteLimit": 2048000,
      "rowLimit": 10000
     },
     "inputWidgets": {},
     "nuid": "91590089-6f3e-4ab8-b116-649988a4edeb",
     "showTitle": false,
     "tableResultSettingsMap": {},
     "title": ""
    }
   },
   "source": [
    "#### Import DHS GPS data"
   ]
  },
  {
   "cell_type": "code",
   "execution_count": 0,
   "metadata": {
    "application/vnd.databricks.v1+cell": {
     "cellMetadata": {
      "byteLimit": 2048000,
      "rowLimit": 10000
     },
     "inputWidgets": {},
     "nuid": "3d13eec5-37d2-4b7e-960a-15b61aa967ce",
     "showTitle": false,
     "tableResultSettingsMap": {},
     "title": ""
    }
   },
   "outputs": [],
   "source": [
    "shp_files <- c(\"NGGE23FL\", \"NGGE4BFL\", \"NGGE52FL\", \"NGGE61FL\", \"NGGE6AFL\", \"NGGE71FL\", \"NGGE7BFL\", \"NGGE81FL\")\n",
    "\n",
    "# READ IN GEOSPATIAL FILES AND BIND TOGETHER TO CREATE A SINGLE FILE\n",
    "pts_comb <- data.frame()\n",
    "for (gf in shp_files){\n",
    "  read_path = paste0(\"/Volumes/idm_dhs/dhs_data/dhs_data_shp/\", gf, \"/\", gf, \".shp\")\n",
    "  pts <- st_read(read_path, quiet=TRUE) %>%\n",
    "    st_make_valid() %>%\n",
    "    dplyr::mutate(geo_file = gf,\n",
    "                  survey = paste0(substr(gf, 1, 2), substr(gf, nchar(gf) - 3, nchar(gf)))) %>%\n",
    "    dplyr::mutate(across(c(-geometry), ~ case_when(. == \"NULL\" ~ NA,\n",
    "                                                   TRUE ~ .)))\n",
    "  pts_comb <- rbind(pts_comb, pts)\n",
    "  print(gf)\n",
    "}\n",
    "\n",
    "pts_comb <- pts_comb %>%\n",
    "  dplyr::mutate(survey = case_when(survey == \"NG23FL\" ~ \"NG21FL\",\n",
    "                                   survey == \"NG52FL\" ~ \"NG53FL\",\n",
    "                                   TRUE ~ survey))\n",
    "\n",
    "pts_comb1 <- st_join(pts_comb, gadm1, join=st_within) %>%\n",
    "  dplyr::mutate(cluster_lon = sf::st_coordinates(.)[,1],\n",
    "                cluster_lat = sf::st_coordinates(.)[,2]) %>%\n",
    "  st_drop_geometry() %>%\n",
    "  dplyr::select(survey, geo_file, DHSCC, DHSYEAR, DHSCLUST, GID_0, NAME_1, cluster_lon, cluster_lat) %>%\n",
    "  distinct() %>%\n",
    "  setNames(c(\"survey\", \"geo_file\", \"dhs_cc\", \"survey_year\", \"v001\", \"iso_code\", \"admin1\", \"cluster_lon\", \"cluster_lat\"))\n",
    "\n",
    "str(pts_comb1)"
   ]
  },
  {
   "cell_type": "markdown",
   "metadata": {
    "application/vnd.databricks.v1+cell": {
     "cellMetadata": {
      "byteLimit": 2048000,
      "rowLimit": 10000
     },
     "inputWidgets": {},
     "nuid": "3db8ce65-f9f7-41eb-ab5b-b89cd64bb4d7",
     "showTitle": false,
     "tableResultSettingsMap": {},
     "title": ""
    }
   },
   "source": [
    "#### Import DHS KR data"
   ]
  },
  {
   "cell_type": "code",
   "execution_count": 0,
   "metadata": {
    "application/vnd.databricks.v1+cell": {
     "cellMetadata": {
      "byteLimit": 2048000,
      "rowLimit": 10000
     },
     "inputWidgets": {},
     "nuid": "d3c0f229-574b-4263-a916-1f57d2e0bff0",
     "showTitle": false,
     "tableResultSettingsMap": {},
     "title": ""
    }
   },
   "outputs": [],
   "source": [
    "db = \"nga\"\n",
    "df_tables <- SparkR::sql(paste0(\"SHOW TABLES IN idm_dhs.\", db)) %>% as.data.frame()\n",
    "\n",
    "df_tables_kr <- df_tables %>%\n",
    "  filter(grepl('kr', tableName)) %>%\n",
    "  mutate(table_name = paste0(database, \".\", tableName))\n",
    "\n",
    "# print(df_tables_kr$table_name)\n",
    "display(df_tables_kr)"
   ]
  },
  {
   "cell_type": "code",
   "execution_count": 0,
   "metadata": {
    "application/vnd.databricks.v1+cell": {
     "cellMetadata": {
      "byteLimit": 2048000,
      "rowLimit": 10000
     },
     "inputWidgets": {},
     "nuid": "2269c8ce-2664-475f-a6a1-a33cc3ef7fd3",
     "showTitle": false,
     "tableResultSettingsMap": {},
     "title": ""
    }
   },
   "outputs": [],
   "source": [
    "raw_dta_folder = \"/Volumes/idm_dhs/dhs_data/dhs_data_dta\"\n",
    "file_list <- list()\n",
    "for (file_name in dbutils.fs.ls(raw_dta_folder)){\n",
    "  file_list <- append(file_list, file_name$name)\n",
    "}\n",
    "\n",
    "df_file_list <- data.frame(file_name = unlist(file_list))\n",
    "\n",
    "df_file_list <- df_file_list %>%\n",
    "  filter(startsWith(toupper(file_name), \"NGKR\"))\n",
    "\n",
    "display(df_file_list)"
   ]
  },
  {
   "cell_type": "code",
   "execution_count": 0,
   "metadata": {
    "application/vnd.databricks.v1+cell": {
     "cellMetadata": {
      "byteLimit": 2048000,
      "rowLimit": 10000
     },
     "inputWidgets": {},
     "nuid": "4cb840f5-32cf-4af6-a11d-e7cf977d4e7b",
     "showTitle": false,
     "tableResultSettingsMap": {},
     "title": ""
    }
   },
   "outputs": [],
   "source": [
    "ri_indicators <- data.frame()\n",
    "for (dhs_file in unique(df_file_list$file_name)){\n",
    "  print(dhs_file)\n",
    "\n",
    "  file_path = paste0(\"/Volumes/idm_dhs/dhs_data/dhs_data_dta/\", dhs_file)\n",
    "  KRdata <- read_dta(file_path) %>%\n",
    "    dplyr::mutate(survey = word(dhs_file, 1, sep = \"\\\\.\")) %>%\n",
    "    plyr::mutate(survey = toupper(paste0(substr(survey, 1, 2), substr(survey, nchar(survey) - 3, nchar(survey)))))\n",
    "\n",
    "\n",
    "  # /*****************************************************************************************************\n",
    "  # Program: \t\t\t  CH_VAC.R\n",
    "  # Purpose: \t\t\t  Code vaccination variables.\n",
    "  # Data inputs: \t\tKR dataset\n",
    "  # Data outputs:\t\tcoded variables\n",
    "  # Author:\t\t\t\t  Shireen Assaf\n",
    "  # Date last modified: August 16, 2022 by Shireen Assaf \n",
    "  # Notes:\t\t\t\tEstimates can be created for two age groups (12-23) and (24-35). \n",
    "  # \t\t\t\t\t\n",
    "  # \t\t\t\t\t!! Please choose the age group of interest in line 100. Default is age group 12-23\n",
    "  # \t\t\t\t\tThis code will create a subset of the KR data file KRvac that selects for children in the age group of interest \n",
    "\n",
    "  # \t\t\t\t\tVaccination indicators are country specific. However, most common vaccines are coded below and the same logic can be applied to others.\n",
    "  # \t\t\t\t\tWhen the vaccine is a single dose, the logic for single dose vaccines can be used (ex: bcg).\n",
    "  # \t\t\t\t\tWhen the vaccine has 3 doses, the logic for multiple dose vaccines can be used (ex: dpt)\n",
    "  # *****************************************************************************************************/\n",
    "  # /*----------------------------------------------------------------------------\n",
    "  # Variables created in this file:\n",
    "  # ch_bcg_card\t\t\t\"BCG vaccination according to card\"\n",
    "  # ch_bcg_moth\t\t\t\"BCG vaccination according to mother\"\n",
    "  # ch_bcg_either\t\t\"BCG vaccination according to either source\"\n",
    "  # \n",
    "  # ch_pent1_card\t\t\"Pentavalent 1st dose vaccination according to card\"\n",
    "  # ch_pent1_moth\t\t\"Pentavalent 1st dose vaccination according to mother\"\n",
    "  # ch_pent1_either\t\"Pentavalent 1st dose vaccination according to either source\"\n",
    "  # ch_pent2_card\t\t\"Pentavalent 2nd dose vaccination according to card\"\n",
    "  # ch_pent2_moth\t\t\"Pentavalent 2nd dose vaccination according to mother\"\n",
    "  # ch_pent2_either\t\"Pentavalent 2nd dose vaccination according to either source\"\n",
    "  # ch_pent3_card\t\t\"Pentavalent 3rd dose vaccination according to card\"\n",
    "  # ch_pent3_moth\t\t\"Pentavalent 3rd dose vaccination according to mother\"\n",
    "  # ch_pent3_either\t\"Pentavalent 3rd dose vaccination according to either source\"\n",
    "  # \n",
    "  # ch_polio0_card\t\t\"Polio at birth vaccination according to card\"\n",
    "  # ch_polio0_moth\t\t\"Polio at birth vaccination according to mother\"\n",
    "  # ch_polio0_either\t\"Polio at birth vaccination according to either source\"\n",
    "  # ch_polio1_card\t\t\"Polio 1st dose vaccination according to card\"\n",
    "  # ch_polio1_moth\t\t\"Polio 1st dose vaccination according to mother\"\n",
    "  # ch_polio1_either\t\"Polio 1st dose vaccination according to either source\"\n",
    "  # ch_polio2_card\t\t\"Polio 2nd dose vaccination according to card\"\n",
    "  # ch_polio2_moth\t\t\"Polio 2nd dose vaccination according to mother\"\n",
    "  # ch_polio2_either\t\"Polio 2nd dose vaccination according to either source\"\n",
    "  # ch_polio3_card\t\t\"Polio 3rd dose vaccination according to card\"\n",
    "  # ch_polio3_moth\t\t\"Polio 3rd dose vaccination according to mother\"\n",
    "  # ch_polio3_either\t\"Polio 3rd dose vaccination according to either source\"\n",
    "  # \n",
    "  # ch_pneumo1_card\t\t\"Pneumococcal 1st dose vaccination according to card\"\n",
    "  # ch_pneumo1_moth\t\t\"Pneumococcal 1st dose vaccination according to mother\"\n",
    "  # ch_pneumo1_either\t\"Pneumococcal 1st dose vaccination according to either source\"\n",
    "  # ch_pneumo2_card\t\t\"Pneumococcal 2nd dose vaccination according to card\"\n",
    "  # ch_pneumo2_moth\t\t\"Pneumococcal 2nd dose vaccination according to mother\"\n",
    "  # ch_pneumo2_either\t\"Pneumococcal 2nd dose vaccination according to either source\"\n",
    "  # ch_pneumo3_card\t\t\"Pneumococcal 3rd dose vaccination according to card\"\n",
    "  # ch_pneumo3_moth\t\t\"Pneumococcal 3rd dose vaccination according to mother\"\n",
    "  # ch_pneumo3_either\t\"Pneumococcal 3rd dose vaccination according to either source\"\n",
    "  # \n",
    "  # ch_rotav1_card\t\t\"Rotavirus 1st dose vaccination according to card\"\n",
    "  # ch_rotav1_moth\t\t\"Rotavirus 1st dose vaccination according to mother\"\n",
    "  # ch_rotav1_either\t\"Rotavirus 1st dose vaccination according to either source\"\n",
    "  # ch_rotav2_card\t\t\"Rotavirus 2nd dose vaccination according to card\"\n",
    "  # ch_rotav2_moth\t\t\"Rotavirus 2nd dose vaccination according to mother\"\n",
    "  # ch_rotav2_either\t\"Rotavirus 2nd dose vaccination according to either source\"\n",
    "  # ch_rotav3_card\t\t\"Rotavirus 3rd dose vaccination according to card\"\n",
    "  # ch_rotav3_moth\t\t\"Rotavirus 3rd dose vaccination according to mother\"\n",
    "  # ch_rotav3_either\t\"Rotavirus 3rd dose vaccination according to either source\"\n",
    "  # \n",
    "  # ch_meas_card\t\t  \"Measles vaccination according to card\"\n",
    "  # ch_meas_moth\t\t  \"Measles vaccination according to mother\"\n",
    "  # ch_meas_either\t\t\"Measles vaccination according to either source\"\n",
    "  # \n",
    "  # ch_allvac_card\t\t\"All basic vaccinations according to card\"\n",
    "  # ch_allvac_moth\t\t\"All basic vaccinations according to mother\"\n",
    "  # ch_allvac_either\t\"All basic vaccinations according to either source\"\n",
    "  # \n",
    "  # ch_novac_card\t\t  \"No vaccinations according to card\"\n",
    "  # ch_novac_moth\t\t  \"No vaccinations according to mother\"\n",
    "  # ch_novac_either\t\t\"No vaccinations according to either source\"\n",
    "  # \n",
    "  # ch_card_ever_had\t\"Ever had a vaccination card\"\n",
    "  # ch_card_seen\t\t  \"Vaccination card seen\"\n",
    "  # ----------------------------------------------------------------------------*/\n",
    "\n",
    "  # weight variable \n",
    "  KRdata <- KRdata %>%\n",
    "    mutate(wt = v005/1000000)\n",
    "\n",
    "  # age of child. If b19 is not available in the data use v008 - b3\n",
    "  if (\"TRUE\" %in% (!(\"b19\" %in% names(KRdata))))\n",
    "    KRdata [[paste(\"b19\")]] <- NA\n",
    "  if (\"TRUE\" %in% all(is.na(KRdata$b19)))\n",
    "  { b19_included <- 0} else { b19_included <- 1}\n",
    "\n",
    "  if (b19_included==1) {\n",
    "    KRdata <- KRdata %>%\n",
    "      mutate(age = b19)\n",
    "  } else {\n",
    "    KRdata <- KRdata %>%\n",
    "      mutate(age = v008 - b3)\n",
    "  }\n",
    "    \n",
    "  # *** Two age groups used for reporting. \n",
    "  KRdata <- KRdata %>%\n",
    "    mutate(agegroup = \n",
    "            case_when(\n",
    "              age <= 11 ~ 0,\n",
    "              age >= 12 & age <= 23 ~ 1,\n",
    "              age >= 24 & age <= 35 ~ 2,\n",
    "              age >= 36 & age <= 47 ~ 3,\n",
    "              age >= 48 & age <= 59 ~ 4)) %>%\n",
    "    set_value_labels(agegroup = c(\"0-11\" = 0, \"12-23\" = 1, \"24-35\" = 2, \"36-47\" = 3, \"48-59\" = 4)) %>%\n",
    "    set_variable_labels(agegroup = \"age group of child for vaccination\")\n",
    "\n",
    "  # Selecting children\n",
    "  # Create subset of KRfile to select for children for VAC indicators\n",
    "  # Select agegroup 1 or agegroup 2\n",
    "  KRvac <- KRdata %>%\n",
    "    # subset(agegroup==1 & b5==1) # select age group and live children \n",
    "    # subset(agegroup == 1 & b5 %in% c(\"yes\", \"Yes\", 1))\n",
    "    subset(b5 %in% c(\"yes\", \"Yes\", 1))\n",
    "    \n",
    "  # *******************************************************************************\n",
    "\n",
    "  # Source of vaccination information. We need this variable to code vaccination indicators by source.\n",
    " if (!\"h1\" %in% names(KRvac)){KRvac$h1 <- NA}\n",
    "\n",
    "  KRvac <- KRvac %>%\n",
    "    mutate(source = \n",
    "            case_when(h1==1 ~ 1, h1==0 | h1==2 | h1==3 ~ 2  )) %>%\n",
    "    set_value_labels(source = c(\"card\" = 1, \"mother\"=2)) %>%\n",
    "    set_variable_labels(source = \"source of vaccination information\")\n",
    "\n",
    "  # *** BCG ***\n",
    "  # //BCG either source\n",
    " if (!\"h2\" %in% names(KRvac)){KRvac$h2 <- NA}\n",
    "\n",
    "  KRvac <- KRvac %>%\n",
    "    mutate(ch_bcg_either = \n",
    "            case_when(h2%in%c(1,2,3) ~ 1, h2%in%c(0,8)   ~ 0  )) %>%\n",
    "    set_value_labels(ch_bcg_either = c(\"Yes\" = 1, \"No\"=0)) %>%\n",
    "    set_variable_labels(ch_bcg_either = \"BCG vaccination according to either source\")\n",
    "\n",
    "  # //BCG mother's report\n",
    "  KRvac <- KRvac %>%\n",
    "    mutate(ch_bcg_moth = \n",
    "            case_when(h2%in%c(1,2,3) & source==2 ~ 1, TRUE ~ 0)) %>%\n",
    "    set_value_labels(ch_bcg_moth = c(\"Yes\" = 1, \"No\"=0)) %>%\n",
    "    set_variable_labels(ch_bcg_moth = \"BCG vaccination according to mother\")\n",
    "\n",
    "  # //BCG by card\n",
    "  KRvac <- KRvac %>%\n",
    "    mutate(ch_bcg_card = \n",
    "            case_when(h2%in%c(1,2,3) & source==1 ~ 1, TRUE ~ 0)) %>%\n",
    "    set_value_labels(ch_bcg_card = c(\"Yes\" = 1, \"No\"=0)) %>%\n",
    "    set_variable_labels(ch_bcg_card = \"BCG vaccination according to card\")\n",
    "  \n",
    "  # *** Pentavalent ***\n",
    "  # //DPT 1, 2, 3 either source\n",
    "  if (!\"h3\" %in% names(KRvac)){KRvac$h3 <- NA}\n",
    "  if (!\"h5\" %in% names(KRvac)){KRvac$h5 <- NA}\n",
    "  if (!\"h7\" %in% names(KRvac)){KRvac$h7 <- NA}\n",
    "\n",
    "  KRvac <- KRvac %>%\n",
    "    mutate(dpt1 = case_when(h3%in%c(1,2,3) ~ 1, h3%in%c(0,8) ~ 0  )) %>%\n",
    "    mutate(dpt2 = case_when(h5%in%c(1,2,3) ~ 1, h5%in%c(0,8) ~ 0  )) %>%\n",
    "    mutate(dpt3 = case_when(h7%in%c(1,2,3) ~ 1, h7%in%c(0,8) ~ 0  )) %>%\n",
    "    mutate(dptsum = dpt1 + dpt2 + dpt3)\n",
    "  # This step is performed for multi-dose vaccines to take care of any gaps in the vaccination history. \n",
    "  # See DHS guide to statistics for further explanation\n",
    "  KRvac <- KRvac %>%\n",
    "    mutate(ch_pent1_either = case_when(dptsum >=1 ~ 1, TRUE ~ 0  )) %>%\n",
    "    set_value_labels(ch_pent1_either = c(\"Yes\" = 1, \"No\"=0)) %>%\n",
    "    set_variable_labels(ch_pent1_either = \"Pentavalent 1st dose vaccination according to either source\") %>%\n",
    "    mutate(ch_pent2_either = case_when(dptsum >=2 ~ 1, TRUE ~ 0  )) %>%\n",
    "    set_value_labels(ch_pent2_either = c(\"Yes\" = 1, \"No\"=0)) %>%\n",
    "    set_variable_labels(ch_pent2_either = \"Pentavalent 2nd dose vaccination according to either source\") %>%\n",
    "    mutate(ch_pent3_either = case_when(dptsum >=3 ~ 1, TRUE ~ 0  )) %>%\n",
    "    set_value_labels(ch_pent3_either = c(\"Yes\" = 1, \"No\"=0)) %>%\n",
    "    set_variable_labels(ch_pent3_either = \"Pentavalent 3rd dose vaccination according to either source\") \n",
    "\n",
    "  # //DPT 1, 2, 3 mother's report\n",
    "  KRvac <- KRvac %>%\n",
    "    mutate(ch_pent1_moth = case_when(dptsum >=1 & source==2~ 1, TRUE ~ 0  )) %>%\n",
    "    set_value_labels(ch_pent1_moth = c(\"Yes\" = 1, \"No\"=0)) %>%\n",
    "    set_variable_labels(ch_pent1_moth = \"Pentavalent 1st dose vaccination according to mother\") %>%\n",
    "    mutate(ch_pent2_moth = case_when(dptsum >=2 & source==2 ~ 1, TRUE ~ 0  )) %>%\n",
    "    set_value_labels(ch_pent2_moth = c(\"Yes\" = 1, \"No\"=0)) %>%\n",
    "    set_variable_labels(ch_pent2_moth = \"Pentavalent 2nd dose vaccination according to mother\") %>%\n",
    "    mutate(ch_pent3_moth = case_when(dptsum >=3 & source==2 ~ 1, TRUE ~ 0  )) %>%\n",
    "    set_value_labels(ch_pent3_moth = c(\"Yes\" = 1, \"No\"=0)) %>%\n",
    "    set_variable_labels(ch_pent3_moth = \"Pentavalent 3rd dose vaccination according to mother\") \n",
    "\n",
    "  # //DPT 1, 2, 3 by card\n",
    "  KRvac <- KRvac %>%\n",
    "    mutate(ch_pent1_card = case_when(dptsum >=1 & source==1~ 1, TRUE ~ 0  )) %>%\n",
    "    set_value_labels(ch_pent1_card = c(\"Yes\" = 1, \"No\"=0)) %>%\n",
    "    set_variable_labels(ch_pent1_card = \"Pentavalent 1st dose vaccination according to card\") %>%\n",
    "    mutate(ch_pent2_card = case_when(dptsum >=2 & source==1 ~ 1, TRUE ~ 0  )) %>%\n",
    "    set_value_labels(ch_pent2_card = c(\"Yes\" = 1, \"No\"=0)) %>%\n",
    "    set_variable_labels(ch_pent2_card = \"Pentavalent 2nd dose vaccination according to card\") %>%\n",
    "    mutate(ch_pent3_card = case_when(dptsum >=3 & source==1 ~ 1, TRUE ~ 0  )) %>%\n",
    "    set_value_labels(ch_pent3_card = c(\"Yes\" = 1, \"No\"=0)) %>%\n",
    "    set_variable_labels(ch_pent3_card = \"Pentavalent 3rd dose vaccination according to card\") \n",
    "\n",
    "  # *** Polio ***\n",
    "  # //polio 0, 1, 2, 3 either source\n",
    "  if (!\"h4\" %in% names(KRvac)){KRvac$h4 <- NA}\n",
    "  if (!\"h6\" %in% names(KRvac)){KRvac$h6 <- NA}\n",
    "  if (!\"h8\" %in% names(KRvac)){KRvac$h8 <- NA}\n",
    "\n",
    "  KRvac <- KRvac %>%\n",
    "    mutate(polio1 = case_when(h4%in%c(1,2,3) ~ 1, h4%in%c(0,8) ~ 0  )) %>%\n",
    "    mutate(polio2 = case_when(h6%in%c(1,2,3) ~ 1, h6%in%c(0,8) ~ 0  )) %>%\n",
    "    mutate(polio3 = case_when(h8%in%c(1,2,3) ~ 1, h8%in%c(0,8) ~ 0  )) %>%\n",
    "    mutate(poliosum=polio1 + polio2 + polio3)\n",
    "  # This step is performed for multi-dose vaccines to take care of any gaps in the vaccination history. \n",
    "  # See DHS guide to statistics for further explanation\n",
    "  if (!\"h0\" %in% names(KRvac)){KRvac$h0 <- NA}\n",
    "\n",
    "  KRvac <- KRvac %>%\n",
    "    mutate(ch_polio0_either = case_when(h0%in%c(1,2,3) ~ 1, h0%in%c(0,8) ~ 0 )) %>%\n",
    "    set_value_labels(ch_polio0_either = c(\"Yes\" = 1, \"No\"=0)) %>%\n",
    "    set_variable_labels(ch_polio0_either = \"Polio at birth vaccination according to either source\") %>%\n",
    "    mutate(ch_polio1_either = case_when(poliosum >=1 ~ 1, TRUE ~ 0  )) %>%\n",
    "    set_value_labels(ch_polio1_either = c(\"Yes\" = 1, \"No\"=0)) %>%\n",
    "    set_variable_labels(ch_polio1_either = \"Polio 1st dose vaccination according to either source\") %>%\n",
    "    mutate(ch_polio2_either = case_when(poliosum >=2 ~ 1, TRUE ~ 0  )) %>%\n",
    "    set_value_labels(ch_polio2_either = c(\"Yes\" = 1, \"No\"=0)) %>%\n",
    "    set_variable_labels(ch_polio2_either = \"Polio 2nd dose vaccination according to either source\") %>%\n",
    "    mutate(ch_polio3_either = case_when(poliosum >=3 ~ 1, TRUE ~ 0  )) %>%\n",
    "    set_value_labels(ch_polio3_either = c(\"Yes\" = 1, \"No\"=0)) %>%\n",
    "    set_variable_labels(ch_polio3_either = \"Polio 3rd dose vaccination according to either source\") \n",
    "  \n",
    "  # //polio 0, 1, 2, 3 mother's report\n",
    "  KRvac <- KRvac %>%\n",
    "    mutate(ch_polio0_moth = case_when(h0%in%c(1,2,3) & source==2 ~ 1, TRUE ~ 0 )) %>%\n",
    "    set_value_labels(ch_polio0_moth = c(\"Yes\" = 1, \"No\"=0)) %>%\n",
    "    set_variable_labels(ch_polio0_moth = \"Polio at birth vaccination according to mother\") %>%\n",
    "    mutate(ch_polio1_moth = case_when(poliosum >=1 & source==2~ 1, TRUE ~ 0  )) %>%\n",
    "    set_value_labels(ch_polio1_moth = c(\"Yes\" = 1, \"No\"=0)) %>%\n",
    "    set_variable_labels(ch_polio1_moth = \"Polio 1st dose vaccination according to mother\") %>%\n",
    "    mutate(ch_polio2_moth = case_when(poliosum >=2 & source==2 ~ 1, TRUE ~ 0  )) %>%\n",
    "    set_value_labels(ch_polio2_moth = c(\"Yes\" = 1, \"No\"=0)) %>%\n",
    "    set_variable_labels(ch_polio2_moth = \"Polio 2nd dose vaccination according to mother\") %>%\n",
    "    mutate(ch_polio3_moth = case_when(poliosum >=3 & source==2 ~ 1, TRUE ~ 0  )) %>%\n",
    "    set_value_labels(ch_polio3_moth = c(\"Yes\" = 1, \"No\"=0)) %>%\n",
    "    set_variable_labels(ch_polio3_moth = \"Polio 3rd dose vaccination according to mother\") \n",
    "\n",
    "  # //polio 0, 1, 2, 3 by card\n",
    "  KRvac <- KRvac %>%\n",
    "    mutate(ch_polio0_card = case_when(h0%in%c(1,2,3) & source==1 ~ 1, TRUE ~ 0 )) %>%\n",
    "    set_value_labels(ch_polio0_card = c(\"Yes\" = 1, \"No\"=0)) %>%\n",
    "    set_variable_labels(ch_polio0_card = \"Polio at birth vaccination according to card\") %>%\n",
    "    mutate(ch_polio1_card = case_when(poliosum >=1 & source==1~ 1, TRUE ~ 0  )) %>%\n",
    "    set_value_labels(ch_polio1_card = c(\"Yes\" = 1, \"No\"=0)) %>%\n",
    "    set_variable_labels(ch_polio1_card = \"Polio 1st dose vaccination according to card\") %>%\n",
    "    mutate(ch_polio2_card = case_when(poliosum >=2 & source==1 ~ 1, TRUE ~ 0  )) %>%\n",
    "    set_value_labels(ch_polio2_card = c(\"Yes\" = 1, \"No\"=0)) %>%\n",
    "    set_variable_labels(ch_polio2_card = \"Polio 2nd dose vaccination according to card\") %>%\n",
    "    mutate(ch_polio3_card = case_when(poliosum >=3 & source==1 ~ 1, TRUE ~ 0  )) %>%\n",
    "    set_value_labels(ch_polio3_card = c(\"Yes\" = 1, \"No\"=0)) %>%\n",
    "    set_variable_labels(ch_polio3_card = \"Polio 3rd dose vaccination according to card\") \n",
    "\n",
    "  # *** Pneumococcal  ***\n",
    "  # //Pneumococcal 1, 2, 3 either source\n",
    "  # Some surveys that do not have information on this vaccine.\n",
    "  if (!\"h54\" %in% names(KRvac)){KRvac$h54 <- NA}\n",
    "  if (!\"h55\" %in% names(KRvac)){KRvac$h55 <- NA}\n",
    "  if (!\"h56\" %in% names(KRvac)){KRvac$h56 <- NA}\n",
    "  if (!\"h57\" %in% names(KRvac)){KRvac$h57 <- NA}\n",
    "  if (!\"h58\" %in% names(KRvac)){KRvac$h58 <- NA}\n",
    "  if (!\"h59\" %in% names(KRvac)){KRvac$h59 <- NA}\n",
    "  \n",
    "  KRvac <- KRvac %>%\n",
    "    mutate(Pneumo1 = case_when(h54%in%c(1,2,3) ~ 1, h54%in%c(0,8) ~ 0  )) %>%\n",
    "    mutate(Pneumo2 = case_when(h55%in%c(1,2,3) ~ 1, h55%in%c(0,8) ~ 0  )) %>%\n",
    "    mutate(Pneumo3 = case_when(h56%in%c(1,2,3) ~ 1, h56%in%c(0,8) ~ 0  )) %>%\n",
    "    mutate(Pneumosum= Pneumo1+Pneumo2+Pneumo3)\n",
    "  # This step is performed for multi-dose vaccines to take care of any gaps in the vaccination history. \n",
    "  # See DHS guide to statistics for further explanation\n",
    "  KRvac <- KRvac %>%\n",
    "    mutate(ch_pneumo1_either = case_when(Pneumosum >=1 ~ 1, TRUE ~ 0  )) %>%\n",
    "    set_value_labels(ch_pneumo1_either = c(\"Yes\" = 1, \"No\"=0)) %>%\n",
    "    set_variable_labels(ch_pneumo1_either = \"Pneumococcal 1st dose vaccination according to either source\") %>%\n",
    "    mutate(ch_pneumo2_either = case_when(Pneumosum >=2 ~ 1, TRUE ~ 0  )) %>%\n",
    "    set_value_labels(ch_pneumo2_either = c(\"Yes\" = 1, \"No\"=0)) %>%\n",
    "    set_variable_labels(ch_pneumo2_either = \"Pneumococcal 2nd dose vaccination according to either source\") %>%\n",
    "    mutate(ch_pneumo3_either = case_when(Pneumosum >=3 ~ 1, TRUE ~ 0  )) %>%\n",
    "    set_value_labels(ch_pneumo3_either = c(\"Yes\" = 1, \"No\"=0)) %>%\n",
    "    set_variable_labels(ch_pneumo3_either = \"Pneumococcal 3rd dose vaccination according to either source\") \n",
    "\n",
    "  # //Pneumococcal 1, 2, 3 mother's report\n",
    "  KRvac <- KRvac %>%\n",
    "    mutate(ch_pneumo1_moth = case_when(Pneumosum >=1 & source==2~ 1, TRUE ~ 0  )) %>%\n",
    "    set_value_labels(ch_pneumo1_moth = c(\"Yes\" = 1, \"No\"=0)) %>%\n",
    "    set_variable_labels(ch_pneumo1_moth = \"Pneumococcal 1st dose vaccination according to mother\") %>%\n",
    "    mutate(ch_pneumo2_moth = case_when(Pneumosum >=2 & source==2 ~ 1, TRUE ~ 0  )) %>%\n",
    "    set_value_labels(ch_pneumo2_moth = c(\"Yes\" = 1, \"No\"=0)) %>%\n",
    "    set_variable_labels(ch_pneumo2_moth = \"Pneumococcal 2nd dose vaccination according to mother\") %>%\n",
    "    mutate(ch_pneumo3_moth = case_when(Pneumosum >=3 & source==2 ~ 1, TRUE ~ 0  )) %>%\n",
    "    set_value_labels(ch_pneumo3_moth = c(\"Yes\" = 1, \"No\"=0)) %>%\n",
    "    set_variable_labels(ch_pneumo3_moth = \"Pneumococcal 3rd dose vaccination according to mother\") \n",
    "\n",
    "  # //Pneumococcal 1, 2, 3 by card\n",
    "  KRvac <- KRvac %>%\n",
    "    mutate(ch_pneumo1_card = case_when(Pneumosum >=1 & source==1~ 1, TRUE ~ 0  )) %>%\n",
    "    set_value_labels(ch_pneumo1_card = c(\"Yes\" = 1, \"No\"=0)) %>%\n",
    "    set_variable_labels(ch_pneumo1_card = \"Pneumococcal 1st dose vaccination according to card\") %>%\n",
    "    mutate(ch_pneumo2_card = case_when(Pneumosum >=2 & source==1 ~ 1, TRUE ~ 0  )) %>%\n",
    "    set_value_labels(ch_pneumo2_card = c(\"Yes\" = 1, \"No\"=0)) %>%\n",
    "    set_variable_labels(ch_pneumo2_card = \"Pneumococcal 2nd dose vaccination according to card\") %>%\n",
    "    mutate(ch_pneumo3_card = case_when(Pneumosum >=3 & source==1 ~ 1, TRUE ~ 0  )) %>%\n",
    "    set_value_labels(ch_pneumo3_card = c(\"Yes\" = 1, \"No\"=0)) %>%\n",
    "    set_variable_labels(ch_pneumo3_card = \"Pneumococcal 3rd dose vaccination according to card\") \n",
    "  \n",
    "  # *** Rotavirus  ****\n",
    "  # //Rotavirus 1, 2, 3 either source\n",
    "  # Some surveys that do not have information on this vaccine.\n",
    "  KRvac <- KRvac %>%\n",
    "    mutate(rotav1 = case_when(h57%in%c(1,2,3) ~ 1, h57%in%c(0,8) ~ 0  )) %>%\n",
    "    mutate(rotav2 = case_when(h58%in%c(1,2,3) ~ 1, h58%in%c(0,8) ~ 0  )) %>%\n",
    "    mutate(rotav3 = case_when(h59%in%c(1,2,3) ~ 1, h59%in%c(0,8) ~ 0  )) %>%\n",
    "    mutate(rotavsum= rotav1+rotav2+rotav3)\n",
    "  # This step is performed for multi-dose vaccines to take care of any gaps in the vaccination history. \n",
    "  # See DHS guide to statistics for further explanation\n",
    "  KRvac <- KRvac %>%\n",
    "    mutate(ch_rotav1_either = case_when(rotavsum >=1 ~ 1, TRUE ~ 0  )) %>%\n",
    "    set_value_labels(ch_rotav1_either = c(\"Yes\" = 1, \"No\"=0)) %>%\n",
    "    set_variable_labels(ch_rotav1_either = \"Rotavirus 1st dose vaccination according to either source\") %>%\n",
    "    mutate(ch_rotav2_either = case_when(rotavsum >=2 ~ 1, TRUE ~ 0  )) %>%\n",
    "    set_value_labels(ch_rotav2_either = c(\"Yes\" = 1, \"No\"=0)) %>%\n",
    "    set_variable_labels(ch_rotav2_either = \"Rotavirus 2nd dose vaccination according to either source\") %>%\n",
    "    mutate(ch_rotav3_either = case_when(rotavsum >=3 ~ 1, TRUE ~ 0  )) %>%\n",
    "    set_value_labels(ch_rotav3_either = c(\"Yes\" = 1, \"No\"=0)) %>%\n",
    "    set_variable_labels(ch_rotav3_either = \"Rotavirus 3rd dose vaccination according to either source\") \n",
    "\n",
    "  # //Rotavirus 1, 2, 3 mother's report\n",
    "  KRvac <- KRvac %>%\n",
    "    mutate(ch_rotav1_moth = case_when(rotavsum >=1 & source==2~ 1, TRUE ~ 0  )) %>%\n",
    "    set_value_labels(ch_rotav1_moth = c(\"Yes\" = 1, \"No\"=0)) %>%\n",
    "    set_variable_labels(ch_rotav1_moth = \"Rotavirus 1st dose vaccination according to mother\") %>%\n",
    "    mutate(ch_rotav2_moth = case_when(rotavsum >=2 & source==2 ~ 1, TRUE ~ 0  )) %>%\n",
    "    set_value_labels(ch_rotav2_moth = c(\"Yes\" = 1, \"No\"=0)) %>%\n",
    "    set_variable_labels(ch_rotav2_moth = \"Rotavirus 2nd dose vaccination according to mother\") %>%\n",
    "    mutate(ch_rotav3_moth = case_when(rotavsum >=3 & source==2 ~ 1, TRUE ~ 0  )) %>%\n",
    "    set_value_labels(ch_rotav3_moth = c(\"Yes\" = 1, \"No\"=0)) %>%\n",
    "    set_variable_labels(ch_rotav3_moth = \"Rotavirus 3rd dose vaccination according to mother\") \n",
    "\n",
    "  # //Rotavirus 1, 2, 3 by card\n",
    "  KRvac <- KRvac %>%\n",
    "    mutate(ch_rotav1_card = case_when(rotavsum >=1 & source==1~ 1, TRUE ~ 0  )) %>%\n",
    "    set_value_labels(ch_rotav1_card = c(\"Yes\" = 1, \"No\"=0)) %>%\n",
    "    set_variable_labels(ch_rotav1_card = \"Rotavirus 1st dose vaccination according to card\") %>%\n",
    "    mutate(ch_rotav2_card = case_when(rotavsum >=2 & source==1 ~ 1, TRUE ~ 0  )) %>%\n",
    "    set_value_labels(ch_rotav2_card = c(\"Yes\" = 1, \"No\"=0)) %>%\n",
    "    set_variable_labels(ch_rotav2_card = \"Rotavirus 2nd dose vaccination according to card\") %>%\n",
    "    mutate(ch_rotav3_card = case_when(rotavsum >=3 & source==1 ~ 1, TRUE ~ 0  )) %>%\n",
    "    set_value_labels(ch_rotav3_card = c(\"Yes\" = 1, \"No\"=0)) %>%\n",
    "    set_variable_labels(ch_rotav3_card = \"Rotavirus 3rd dose vaccination according to card\") \n",
    "  \n",
    "  # *** Measles ***\n",
    "  # //Measles either source\n",
    "  if (!\"h9\" %in% names(KRvac)){KRvac$h9 <- NA}\n",
    "\n",
    "  KRvac <- KRvac %>%\n",
    "    mutate(ch_meas_either = \n",
    "            case_when(h9%in%c(1,2,3) ~ 1, h9%in%c(0,8)   ~ 0  )) %>%\n",
    "    set_value_labels(ch_meas_either = c(\"Yes\" = 1, \"No\"=0)) %>%\n",
    "    set_variable_labels(ch_meas_either = \"Measles vaccination according to either source\")\n",
    "\n",
    "  # //Measles mother's report\n",
    "  KRvac <- KRvac %>%\n",
    "    mutate(ch_meas_moth = \n",
    "            case_when(h9%in%c(1,2,3) & source==2 ~ 1, TRUE ~ 0)) %>%\n",
    "    set_value_labels(ch_meas_moth = c(\"Yes\" = 1, \"No\"=0)) %>%\n",
    "    set_variable_labels(ch_meas_moth = \"Measles vaccination according to mother\")\n",
    "\n",
    "  # //Measles by card\n",
    "  KRvac <- KRvac %>%\n",
    "    mutate(ch_meas_card = \n",
    "            case_when(h9%in%c(1,2,3) & source==1 ~ 1, TRUE ~ 0)) %>%\n",
    "    set_value_labels(ch_meas_card = c(\"Yes\" = 1, \"No\"=0)) %>%\n",
    "    set_variable_labels(ch_meas_card = \"Measles vaccination according to card\")\n",
    "\n",
    "  # *** All vaccinations ***\n",
    "  KRvac <- KRvac %>%\n",
    "    mutate(ch_allvac_either = \n",
    "            case_when(ch_bcg_either==1&ch_pent3_either==1&ch_polio3_either==1&ch_meas_either==1 ~ 1, TRUE ~ 0)) %>%\n",
    "    set_value_labels(ch_allvac_either = c(\"Yes\" = 1, \"No\"=0)) %>%\n",
    "    set_variable_labels(ch_allvac_either = \"All basic vaccinations according to either source\")\n",
    "\n",
    "  KRvac <- KRvac %>%\n",
    "    mutate(ch_allvac_moth = \n",
    "            case_when(ch_bcg_either==1&ch_pent3_either==1&ch_polio3_either==1&ch_meas_either==1 & source==2 ~ 1, TRUE ~ 0)) %>%\n",
    "    set_value_labels(ch_allvac_moth = c(\"Yes\" = 1, \"No\"=0)) %>%\n",
    "    set_variable_labels(ch_allvac_moth = \"All basic vaccinations according to mother\")\n",
    "\n",
    "  KRvac <- KRvac %>%\n",
    "    mutate(ch_allvac_card = \n",
    "            case_when(ch_bcg_either==1&ch_pent3_either==1&ch_polio3_either==1&ch_meas_either==1 & source==1 ~ 1, TRUE ~ 0)) %>%\n",
    "    set_value_labels(ch_allvac_card = c(\"Yes\" = 1, \"No\"=0)) %>%\n",
    "    set_variable_labels(ch_allvac_card = \"All basic vaccinations according to card\")\n",
    "\n",
    "  # *** No vaccinations ***\n",
    "  KRvac <- KRvac %>%\n",
    "    mutate(ch_novac_either = \n",
    "            case_when(ch_bcg_either==0&ch_pent1_either==0&ch_pent2_either==0&ch_pent3_either==0& \n",
    "                      ch_polio0_either==0&ch_polio1_either==0&ch_polio2_either==0&ch_polio3_either==0&\n",
    "                      ch_meas_either==0 ~ 1, \n",
    "                      TRUE ~ 0)) %>%\n",
    "    set_value_labels(ch_novac_either = c(\"Yes\" = 1, \"No\"=0)) %>%\n",
    "    set_variable_labels(ch_novac_either = \"No vaccinations according to either source\")\n",
    "\n",
    "  KRvac <- KRvac %>%\n",
    "    mutate(ch_novac_moth = \n",
    "            case_when(ch_bcg_either==0&ch_pent1_either==0&ch_pent2_either==0&ch_pent3_either==0& \n",
    "                        ch_polio0_either==0&ch_polio1_either==0&ch_polio2_either==0&ch_polio3_either==0&\n",
    "                        ch_meas_either==0& source==2 ~ 1, \n",
    "                        TRUE ~ 0)) %>%  \n",
    "    set_value_labels(ch_novac_moth = c(\"Yes\" = 1, \"No\"=0)) %>%\n",
    "    set_variable_labels(ch_novac_moth = \"No vaccinations according to mother\")\n",
    "\n",
    "  KRvac <- KRvac %>%\n",
    "    mutate(ch_novac_card = \n",
    "            case_when(ch_bcg_either==0&ch_pent1_either==0&ch_pent2_either==0&ch_pent3_either==0& \n",
    "                        ch_polio0_either==0&ch_polio1_either==0&ch_polio2_either==0&ch_polio3_either==0&\n",
    "                        ch_meas_either==0& source==1 ~ 1, \n",
    "                        TRUE ~ 0)) %>% \n",
    "    set_value_labels(ch_novac_card = c(\"Yes\" = 1, \"No\"=0)) %>%\n",
    "    set_variable_labels(ch_novac_card = \"No vaccinations according to card\")\n",
    "  # \n",
    "  # *** vaccination card possession ***\n",
    "  KRvac <- KRvac %>%\n",
    "    mutate(ch_card_ever_had = \n",
    "            case_when(h1%in%c(1,2,3) ~ 1, TRUE  ~ 0  )) %>%\n",
    "    set_value_labels(ch_card_ever_had = c(\"Yes\" = 1, \"No\"=0)) %>%\n",
    "    set_variable_labels(ch_card_ever_had = \"Ever had a vaccination card\")\n",
    "\n",
    "  KRvac <- KRvac %>%\n",
    "    mutate(ch_card_seen = \n",
    "            case_when(h1==1 ~ 1, TRUE  ~ 0  )) %>%\n",
    "    set_value_labels(ch_card_seen = c(\"Yes\" = 1, \"No\"=0)) %>%\n",
    "    set_variable_labels(ch_card_seen = \"Vaccination card seen\")\n",
    "\n",
    "  # KRvac <- KRvac %>%\n",
    "  #   dplyr::mutate_all(as.character)\n",
    "\n",
    "  ri_indicators <- bind_rows(ri_indicators, KRvac)\n",
    "\n",
    "}"
   ]
  },
  {
   "cell_type": "code",
   "execution_count": 0,
   "metadata": {
    "application/vnd.databricks.v1+cell": {
     "cellMetadata": {
      "byteLimit": 2048000,
      "rowLimit": 10000
     },
     "inputWidgets": {},
     "nuid": "7b8b9927-3292-4669-9418-714dc05ea61c",
     "showTitle": false,
     "tableResultSettingsMap": {},
     "title": ""
    }
   },
   "outputs": [],
   "source": [
    "# SUBSET AND BIND TOGETHER\n",
    "KRvac1 <- ri_indicators %>%\n",
    "  dplyr::select(survey, caseid, midx, v001, wt, v021, v023, v024, v025, b19, v008, b3, age, agegroup, h1, source, h2, ch_bcg_either, ch_bcg_moth, ch_bcg_card, h3, dpt1, h5, dpt2, h7, dpt3, dptsum, ch_pent1_either, ch_pent2_either, ch_pent3_either, ch_pent1_moth, ch_pent2_moth, ch_pent3_moth, ch_pent1_card, ch_pent2_card, ch_pent3_card, h4, polio1, h6, polio2, h8, polio3, poliosum, ch_polio0_either, ch_polio1_either, ch_polio2_either, ch_polio3_either, ch_polio0_moth, ch_polio1_moth, ch_polio2_moth, ch_polio3_moth, h0, ch_polio0_card, ch_polio1_card, ch_polio2_card, ch_polio3_card, h9, ch_meas_either, ch_meas_moth, ch_meas_card, ch_allvac_either, ch_allvac_moth, ch_allvac_card, ch_novac_either, ch_novac_moth, ch_novac_card, ch_card_ever_had, ch_card_seen) %>%\n",
    "  dplyr::mutate(across(where(is.labelled), as_factor)) %>%\n",
    "  dplyr::mutate_if(is.factor, as.character) %>%\n",
    "  distinct()\n",
    "\n",
    "KRvac1 <- KRvac1 %>%\n",
    "  base::merge(pts_comb1, by=c(\"survey\", \"v001\"), all.x=TRUE) %>%\n",
    "  distinct()"
   ]
  },
  {
   "cell_type": "code",
   "execution_count": 0,
   "metadata": {
    "application/vnd.databricks.v1+cell": {
     "cellMetadata": {
      "byteLimit": 2048000,
      "rowLimit": 10000
     },
     "inputWidgets": {},
     "nuid": "d6a534cc-7a32-40af-8899-b151830ab9a3",
     "showTitle": false,
     "tableResultSettingsMap": {},
     "title": ""
    }
   },
   "outputs": [],
   "source": [
    "# THESE HAVE BOGUS GPS COORDINATES, CAN FIX MOST OF THEM BY HAND USING THE SURVEY STRATIFICATION VARIABLES\n",
    "display(\n",
    "  KRvac1 %>%\n",
    "  filter(is.na(admin1)) %>%\n",
    "  group_by(survey) %>%\n",
    "  dplyr::summarize(count = n())\n",
    "  )"
   ]
  },
  {
   "cell_type": "code",
   "execution_count": 0,
   "metadata": {
    "application/vnd.databricks.v1+cell": {
     "cellMetadata": {
      "byteLimit": 2048000,
      "rowLimit": 10000
     },
     "inputWidgets": {},
     "nuid": "bd7c9585-22f4-4936-8540-96a6009ceb7c",
     "showTitle": false,
     "tableResultSettingsMap": {},
     "title": ""
    }
   },
   "outputs": [],
   "source": [
    "KRvac1 %>%\n",
    "group_by(ch_meas_either) %>%\n",
    "dplyr::summarize(count = n())"
   ]
  },
  {
   "cell_type": "markdown",
   "metadata": {
    "application/vnd.databricks.v1+cell": {
     "cellMetadata": {
      "byteLimit": 2048000,
      "rowLimit": 10000
     },
     "inputWidgets": {},
     "nuid": "76a10c39-4a60-46fe-bdef-d87c57966526",
     "showTitle": false,
     "tableResultSettingsMap": {},
     "title": ""
    }
   },
   "source": [
    "#### Summarize to state level"
   ]
  },
  {
   "cell_type": "code",
   "execution_count": 0,
   "metadata": {
    "application/vnd.databricks.v1+cell": {
     "cellMetadata": {
      "byteLimit": 2048000,
      "rowLimit": 10000
     },
     "inputWidgets": {},
     "nuid": "cb424baa-dd1a-4767-abce-769055df4926",
     "showTitle": false,
     "tableResultSettingsMap": {},
     "title": ""
    }
   },
   "outputs": [],
   "source": [
    "# KRvac_cntry <- KRvac1 %>%\n",
    "#   group_by(survey, survey_year) %>%\n",
    "#   dplyr::summarize(ch_meas_either = sum(ifelse(ch_meas_either==\"Yes\", wt, 0), na.rm=TRUE),\n",
    "#                    ch_meas_moth = sum(ifelse(ch_meas_moth==\"Yes\", wt, 0), na.rm=TRUE),\n",
    "#                    ch_meas_card = sum(ifelse(ch_meas_card==\"Yes\", wt, 0), na.rm=TRUE),\n",
    "#                    record_count = sum(wt[!is.na(ch_meas_either)], na.rm=TRUE),\n",
    "#                    prop_meas_either = round(ch_meas_either/record_count, 3),\n",
    "#                    prop_ch_meas_moth = round(ch_meas_moth/record_count, 3),\n",
    "#                    prop_ch_meas_card = round(ch_meas_card/record_count, 3)) %>%\n",
    "#   dplyr::mutate(admin1 = \"All\")\n",
    "\n",
    "# KRvac_admin1 <- KRvac1 %>%\n",
    "#   group_by(survey, survey_year, admin1) %>%\n",
    "#   dplyr::summarize(ch_meas_either = sum(ifelse(ch_meas_either==\"Yes\", wt, 0), na.rm=TRUE),\n",
    "#                   ch_meas_moth = sum(ifelse(ch_meas_moth==\"Yes\", wt, 0), na.rm=TRUE),\n",
    "#                   ch_meas_card = sum(ifelse(ch_meas_card==\"Yes\", wt, 0), na.rm=TRUE),\n",
    "#                   record_count = sum(wt[!is.na(ch_meas_either)], na.rm=TRUE),\n",
    "#                   prop_meas_either = round(ch_meas_either/record_count, 3),\n",
    "#                   prop_ch_meas_moth = round(ch_meas_moth/record_count, 3),\n",
    "#                   prop_ch_meas_card = round(ch_meas_card/record_count, 3))\n",
    "\n",
    "# KRvac_admin1 <- rbind(KRvac_admin1, KRvac_cntry) \n",
    "\n",
    "# display(KRvac_cntry)"
   ]
  },
  {
   "cell_type": "code",
   "execution_count": 0,
   "metadata": {
    "application/vnd.databricks.v1+cell": {
     "cellMetadata": {
      "byteLimit": 2048000,
      "rowLimit": 10000
     },
     "inputWidgets": {},
     "nuid": "5b767868-7217-4ecf-9ca9-b22425585ac6",
     "showTitle": false,
     "tableResultSettingsMap": {},
     "title": ""
    }
   },
   "outputs": [],
   "source": [
    "# display(KRvac_admin1 %>% dplyr::filter(prop_meas_either != 0))"
   ]
  },
  {
   "cell_type": "code",
   "execution_count": 0,
   "metadata": {
    "application/vnd.databricks.v1+cell": {
     "cellMetadata": {
      "byteLimit": 2048000,
      "rowLimit": 10000
     },
     "inputWidgets": {},
     "nuid": "5de0c421-651b-4603-b5a5-abe97bfdb173",
     "showTitle": false,
     "tableResultSettingsMap": {},
     "title": ""
    }
   },
   "outputs": [],
   "source": [
    "# KRvac_admin1_sdf <- KRvac_admin1 %>%\n",
    "#   as.DataFrame()\n",
    "\n",
    "KRvac_sdf <- KRvac1 %>%\n",
    "  as.DataFrame()"
   ]
  },
  {
   "cell_type": "code",
   "execution_count": 0,
   "metadata": {
    "application/vnd.databricks.v1+cell": {
     "cellMetadata": {
      "byteLimit": 2048000,
      "rowLimit": 10000
     },
     "inputWidgets": {},
     "nuid": "0e575b7c-36e0-40a1-93e4-410f68f595e8",
     "showTitle": false,
     "tableResultSettingsMap": {},
     "title": ""
    }
   },
   "outputs": [],
   "source": [
    "# delta_path = \"abfss://dhs-projects@idmdpdls01.dfs.core.windows.net/equity_dive_2024/unity_catalog/ri_summary_indicators.delta\"\n",
    "# write.df(KRvac_admin1_sdf, source = 'delta', path = delta_path, mode = 'overwrite')\n",
    "\n",
    "# catalog = \"idm_dhs_projects\"\n",
    "# schema = \"equity_dive_2024\"\n",
    "# table_name = \"ri_admin1_summary\"\n",
    "# file_path = delta_path\n",
    "\n",
    "# # SparkR::sql(paste0(\"CREATE CATALOG IF NOT EXISTS \", catalog))\n",
    "# # SparkR::sql(paste0(\"CREATE SCHEMA IF NOT EXISTS \", catalog, \".\", schema))\n",
    "# SparkR::sql(paste0(\"DROP TABLE IF EXISTS \", catalog, \".\", schema, \".\", table_name))\n",
    "# SparkR::createTable(paste0(catalog, \".\", schema, \".\", table_name), path=file_path, source=\"delta\")\n",
    "# print(paste0(catalog, \".\", schema, \".\", table_name))"
   ]
  },
  {
   "cell_type": "code",
   "execution_count": 0,
   "metadata": {
    "application/vnd.databricks.v1+cell": {
     "cellMetadata": {
      "byteLimit": 2048000,
      "rowLimit": 10000
     },
     "inputWidgets": {},
     "nuid": "9e7c7b25-2f9d-4850-b581-35ed13ea656e",
     "showTitle": false,
     "tableResultSettingsMap": {},
     "title": ""
    }
   },
   "outputs": [],
   "source": [
    "delta_path = \"abfss://dhs-data@idmdpdls01.dfs.core.windows.net/dhs_indicators/dhs_ch_vac.delta\"\n",
    "dbutils.fs.rm(delta_path, \"true\")\n",
    "write.df(KRvac_sdf, source = 'delta', path = delta_path, mode = 'overwrite')\n",
    "\n",
    "catalog = \"idm_dhs\"\n",
    "schema = \"dhs_indicators\"\n",
    "table_name = \"dhs_ch_vac\"\n",
    "file_path = delta_path\n",
    "\n",
    "# SparkR::sql(paste0(\"CREATE CATALOG IF NOT EXISTS \", catalog))\n",
    "SparkR::sql(paste0(\"CREATE SCHEMA IF NOT EXISTS \", catalog, \".\", schema))\n",
    "SparkR::sql(paste0(\"DROP TABLE IF EXISTS \", catalog, \".\", schema, \".\", table_name))\n",
    "SparkR::createTable(paste0(catalog, \".\", schema, \".\", table_name), path=file_path, source=\"delta\")\n",
    "print(paste0(catalog, \".\", schema, \".\", table_name))"
   ]
  }
 ],
 "metadata": {
  "application/vnd.databricks.v1+notebook": {
   "computePreferences": null,
   "dashboards": [],
   "environmentMetadata": {
    "base_environment": "",
    "client": "1"
   },
   "language": "r",
   "notebookMetadata": {
    "pythonIndentUnit": 4
   },
   "notebookName": "CH_VAC",
   "widgets": {}
  },
  "language_info": {
   "name": "r"
  }
 },
 "nbformat": 4,
 "nbformat_minor": 0
}
