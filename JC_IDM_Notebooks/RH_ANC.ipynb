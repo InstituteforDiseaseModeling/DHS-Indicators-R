{
 "cells": [
  {
   "cell_type": "code",
   "execution_count": 0,
   "metadata": {
    "application/vnd.databricks.v1+cell": {
     "cellMetadata": {
      "byteLimit": 2048000,
      "rowLimit": 10000
     },
     "inputWidgets": {},
     "nuid": "97add599-4284-46e2-a1e1-ee02b490a535",
     "showTitle": false,
     "tableResultSettingsMap": {},
     "title": ""
    }
   },
   "outputs": [],
   "source": [
    "pacman::p_load(SparkR, dplyr, labelled, haven, sf, stringr, naniar)"
   ]
  },
  {
   "cell_type": "markdown",
   "metadata": {
    "application/vnd.databricks.v1+cell": {
     "cellMetadata": {
      "byteLimit": 2048000,
      "rowLimit": 10000
     },
     "inputWidgets": {},
     "nuid": "618e20f2-8b12-466a-a267-dde501b09640",
     "showTitle": false,
     "tableResultSettingsMap": {},
     "title": ""
    }
   },
   "source": [
    "#### Import GADM gpkg"
   ]
  },
  {
   "cell_type": "code",
   "execution_count": 0,
   "metadata": {
    "application/vnd.databricks.v1+cell": {
     "cellMetadata": {
      "byteLimit": 2048000,
      "rowLimit": 10000
     },
     "inputWidgets": {},
     "nuid": "836762e9-a7fe-4bba-842c-9f2cf532c421",
     "showTitle": false,
     "tableResultSettingsMap": {},
     "title": ""
    }
   },
   "outputs": [],
   "source": [
    "read_path = \"/Volumes/idm_dhs/dhs_data/dhs_data_shp/gadm_410.gpkg\"\n",
    "\n",
    "gadm <- st_read(read_path)\n",
    "\n",
    "str(gadm)"
   ]
  },
  {
   "cell_type": "code",
   "execution_count": 0,
   "metadata": {
    "application/vnd.databricks.v1+cell": {
     "cellMetadata": {
      "byteLimit": 2048000,
      "rowLimit": 10000
     },
     "inputWidgets": {},
     "nuid": "4093449a-1124-44b0-8f92-a791fb298252",
     "showTitle": false,
     "tableResultSettingsMap": {},
     "title": ""
    }
   },
   "outputs": [],
   "source": [
    "gadm1 <- gadm %>%\n",
    "  dplyr::mutate(across(c(GID_0, GID_1, GID_2, GID_3, GID_4, GID_5), ~ str_remove_all(.x, pattern = fixed(\" \")))) %>%\n",
    "  dplyr::mutate(across(c(-geom), as.character)) %>%\n",
    "  dplyr::mutate(across(c(-geom), na_if, \"\")) %>%\n",
    "  dplyr::mutate(GID_n = ifelse(is.na(GID_5), GID_4, GID_5),\n",
    "         GID_n = ifelse(is.na(GID_4), GID_3, GID_n),\n",
    "         GID_n = ifelse(is.na(GID_3), GID_2, GID_n),\n",
    "         GID_n = ifelse(is.na(GID_2), GID_1, GID_n),\n",
    "         GID_n = ifelse(is.na(GID_1), GID_0, GID_n)) %>%\n",
    "  dplyr::filter(GID_0 == \"NGA\")\n",
    "\n",
    "str(gadm1)"
   ]
  },
  {
   "cell_type": "markdown",
   "metadata": {
    "application/vnd.databricks.v1+cell": {
     "cellMetadata": {
      "byteLimit": 2048000,
      "rowLimit": 10000
     },
     "inputWidgets": {},
     "nuid": "f4d00839-f9f6-45d5-b65b-cee161768585",
     "showTitle": false,
     "tableResultSettingsMap": {},
     "title": ""
    }
   },
   "source": [
    "#### Import DHS GPS data"
   ]
  },
  {
   "cell_type": "code",
   "execution_count": 0,
   "metadata": {
    "application/vnd.databricks.v1+cell": {
     "cellMetadata": {
      "byteLimit": 2048000,
      "rowLimit": 10000
     },
     "inputWidgets": {},
     "nuid": "c018e89d-29a5-4c4b-a956-4b6973a62f07",
     "showTitle": false,
     "tableResultSettingsMap": {},
     "title": ""
    }
   },
   "outputs": [],
   "source": [
    "shp_files <- c(\"NGGE23FL\", \"NGGE4BFL\", \"NGGE52FL\", \"NGGE61FL\", \"NGGE6AFL\", \"NGGE71FL\", \"NGGE7BFL\", \"NGGE81FL\")\n",
    "\n",
    "# READ IN GEOSPATIAL FILES AND BIND TOGETHER TO CREATE A SINGLE FILE\n",
    "pts_comb <- data.frame()\n",
    "for (gf in shp_files){\n",
    "  read_path = paste0(\"/Volumes/idm_dhs/dhs_data/dhs_data_shp/\", gf, \"/\", gf, \".shp\")\n",
    "  pts <- st_read(read_path, quiet=TRUE) %>%\n",
    "    st_make_valid() %>%\n",
    "    dplyr::mutate(geo_file = gf,\n",
    "                  survey = paste0(substr(gf, 1, 2), substr(gf, nchar(gf) - 3, nchar(gf)))) %>%\n",
    "    dplyr::mutate(across(c(-geometry), ~ case_when(. == \"NULL\" ~ NA,\n",
    "                                                   TRUE ~ .)))\n",
    "  pts_comb <- rbind(pts_comb, pts)\n",
    "  print(gf)\n",
    "}\n",
    "\n",
    "pts_comb <- pts_comb %>%\n",
    "  dplyr::mutate(survey = case_when(survey == \"NG23FL\" ~ \"NG21FL\",\n",
    "                                   survey == \"NG52FL\" ~ \"NG53FL\",\n",
    "                                   TRUE ~ survey))\n",
    "\n",
    "pts_comb1 <- st_join(pts_comb, gadm1, join=st_within) %>%\n",
    "  dplyr::mutate(cluster_lon = sf::st_coordinates(.)[,1],\n",
    "                cluster_lat = sf::st_coordinates(.)[,2]) %>%\n",
    "  st_drop_geometry() %>%\n",
    "  dplyr::select(survey, geo_file, DHSCC, DHSYEAR, DHSCLUST, GID_0, NAME_1, cluster_lon, cluster_lat) %>%\n",
    "  distinct() %>%\n",
    "  setNames(c(\"survey\", \"geo_file\", \"dhs_cc\", \"survey_year\", \"v001\", \"iso_code\", \"admin1\", \"cluster_lon\", \"cluster_lat\"))\n",
    "\n",
    "str(pts_comb1)"
   ]
  },
  {
   "cell_type": "markdown",
   "metadata": {
    "application/vnd.databricks.v1+cell": {
     "cellMetadata": {
      "byteLimit": 2048000,
      "rowLimit": 10000
     },
     "inputWidgets": {},
     "nuid": "ca01c4ea-453b-412b-971f-4db5962fae8b",
     "showTitle": false,
     "tableResultSettingsMap": {},
     "title": ""
    }
   },
   "source": [
    "#### Import DHS IR data"
   ]
  },
  {
   "cell_type": "code",
   "execution_count": 0,
   "metadata": {
    "application/vnd.databricks.v1+cell": {
     "cellMetadata": {
      "byteLimit": 2048000,
      "rowLimit": 10000
     },
     "inputWidgets": {},
     "nuid": "980a0255-1767-45fb-b53f-f7fa0e37a9b9",
     "showTitle": false,
     "tableResultSettingsMap": {},
     "title": ""
    }
   },
   "outputs": [],
   "source": [
    "db = \"nga\"\n",
    "df_tables <- SparkR::sql(paste0(\"SHOW TABLES IN idm_dhs.\", db)) %>% as.data.frame()\n",
    "\n",
    "df_tables_ir <- df_tables %>%\n",
    "  filter(grepl('ngir', tableName)) %>%\n",
    "  mutate(table_name = paste0(database, \".\", tableName))\n",
    "\n",
    "display(df_tables_ir)"
   ]
  },
  {
   "cell_type": "code",
   "execution_count": 0,
   "metadata": {
    "application/vnd.databricks.v1+cell": {
     "cellMetadata": {
      "byteLimit": 2048000,
      "rowLimit": 10000
     },
     "inputWidgets": {},
     "nuid": "d2b0945c-4c60-4a55-8af5-4e658635f543",
     "showTitle": false,
     "tableResultSettingsMap": {},
     "title": ""
    }
   },
   "outputs": [],
   "source": [
    "raw_dta_folder = \"/Volumes/idm_dhs/dhs_data/dhs_data_dta\"\n",
    "file_list <- list()\n",
    "for (file_name in dbutils.fs.ls(raw_dta_folder)){\n",
    "  file_list <- append(file_list, file_name$name)\n",
    "}\n",
    "\n",
    "df_file_list <- data.frame(file_name = unlist(file_list))\n",
    "\n",
    "df_file_list <- df_file_list %>%\n",
    "  filter(startsWith(toupper(file_name), \"NGIR\"))\n",
    "\n",
    "display(df_file_list)"
   ]
  },
  {
   "cell_type": "code",
   "execution_count": 0,
   "metadata": {
    "application/vnd.databricks.v1+cell": {
     "cellMetadata": {
      "byteLimit": 2048000,
      "rowLimit": 10000
     },
     "inputWidgets": {},
     "nuid": "c2687627-56fc-4f6f-83de-25a0f39126d5",
     "showTitle": false,
     "tableResultSettingsMap": {},
     "title": ""
    }
   },
   "outputs": [],
   "source": [
    "rh_indicators <- data.frame()\n",
    "for (dhs_file in unique(df_file_list$file_name)){\n",
    "  print(dhs_file)\n",
    "\n",
    "  file_path = paste0(\"/Volumes/idm_dhs/dhs_data/dhs_data_dta/\", dhs_file)\n",
    "  IRdata <- read_dta(file_path) %>%\n",
    "    dplyr::mutate(survey = word(dhs_file, 1, sep = \"\\\\.\")) %>%\n",
    "    plyr::mutate(survey = toupper(paste0(substr(survey, 1, 2), substr(survey, nchar(survey) - 3, nchar(survey)))))\n",
    "\n",
    "\n",
    "  # *****************************************************************************************************\n",
    "  # Program: \t\t\tRH_ANC.R\n",
    "  # Purpose: \t\t\tCode ANC indicators\n",
    "  # Data inputs: \tIR dataset\n",
    "  # Data outputs:\tcoded variables\n",
    "  # Author:\t\t\t\tShireen Assaf\n",
    "  # Date last modified: Sept 13, 2021 by Shireen Assaf \n",
    "  # *****************************************************************************************************\n",
    "  # \n",
    "  # ----------------------------------------------------------------------------\n",
    "  # Variables created in this file:\n",
    "  # rh_anc_pv       \"Person providing assistance during ANC\"\n",
    "  # rh_anc_pvskill  \"Skilled assistance during ANC\"\n",
    "  # rh_anc_numvs\t\t\"Number of ANC visits\"\n",
    "  # rh_anc_4vs\t\t\t\"Attended 4+ ANC visits\"\n",
    "  # rh_anc_moprg\t\t\"Attended ANC <4 months of pregnancy\"\n",
    "  # rh_anc_median\t\t\"Median months pregnant at first visit\" (scalar not a variable)\n",
    "  # rh_anc_iron\t\t\t\"Took iron tablet/syrup during the pregnancy of last birth\"\n",
    "  # rh_anc_parast\t\t\"Took intestinal parasite drugs during pregnancy of last birth\"\n",
    "  # rh_anc_prgcomp  \"Informed of pregnancy complications during ANC visit\"\n",
    "  # rh_anc_bldpres  \"Blood pressure was taken during ANC visit\"\n",
    "  # rh_anc_urine    \"Urine sample was taken during ANC visit\"\n",
    "  # rh_anc_bldsamp  \"Blood sample was taken during ANC visit\"\n",
    "  # rh_anc_toxinj   \"Received 2+ tetanus injections during last pregnancy\"\n",
    "  # rh_anc_neotet   \"Protected against neonatal tetanus\"\n",
    "  # ----------------------------------------------------------------------------\n",
    "\n",
    "  IRdata <- IRdata %>%\n",
    "    mutate(wt = v005/1000000)\n",
    "\n",
    "  # period and age of child\n",
    "  # choose reference period, last 2 years (24 months) or last 5 years (60 months)\n",
    "  # Using a period of the last 2 years will not match final report but would provide more recent information.\n",
    "  # period = 24\n",
    "  IRdata <- IRdata %>%\n",
    "    mutate(period = 60)\n",
    "\n",
    "  # age of child. If b19_01 is not available in the data use v008 - b3_01\n",
    "  if (\"TRUE\" %in% (!(\"b19_01\" %in% names(IRdata))))\n",
    "    IRdata [[paste(\"b19_01\")]] <- NA\n",
    "  if (\"TRUE\" %in% all(is.na(IRdata $b19_01)))\n",
    "  { b19_included <- 0} else { b19_included <- 1}\n",
    "\n",
    "  if (b19_included==1) {\n",
    "    IRdata <- IRdata %>%\n",
    "    mutate(age = b19_01)\n",
    "  } else {\n",
    "  IRdata <- IRdata %>%\n",
    "  mutate(age = v008 - b3_01)\n",
    "  }\n",
    "\n",
    "  ### *** ANC visit indicators *** ###\n",
    "\n",
    "  # //ANC by type of provider\n",
    "  # ** Note: Please check the final report for this indicator to determine the categories and adjust the code and label accordingly. \n",
    "  IRdata <- IRdata %>%\n",
    "    mutate(rh_anc_pv =\n",
    "            case_when(\n",
    "                m2a_1 == 1   ~ 1 ,\n",
    "                m2b_1 == 1 ~ 2,\n",
    "                m2c_1 == 1 | m2d_1 == 1 | m2e_1 == 1 ~ 3 ,\n",
    "                m2f_1 == 1 | m2g_1 == 1 | m2h_1 == 1 | m2i_1 == 1 | m2j_1 == 1 | m2k_1 == 1 | m2l_1 == 1 | m2m_1 == 1 ~ 4 ,\n",
    "                m2a_1 <2 ~ 5,\n",
    "                m2a_1 == 9 ~ 9 ,\n",
    "                age>=period ~ 99)) %>%\n",
    "    replace_with_na(replace = list(rh_anc_pv = c(99))) %>%\n",
    "    set_value_labels(rh_anc_pv = c(\"Doctor\" = 1, \"Nurse/midwife\"=2, \"Other health worker\"=3, \"TBA/other/relative\"=4, \"No ANC\"=5, \"don't know/missing\"=9  )) %>%\n",
    "    set_variable_labels(rh_anc_pv = \"Person providing assistance during ANC\")\n",
    "\n",
    "  # //ANC by skilled provider\n",
    "  # ** Note: Please check the final report for this indicator to determine what provider is considered skilled.\n",
    "  IRdata <- IRdata %>%\n",
    "    mutate(rh_anc_pvskill =\n",
    "            case_when(\n",
    "              rh_anc_pv>=0 & rh_anc_pv<=2   ~ 1 ,  \n",
    "              rh_anc_pv>2 & rh_anc_pv<=6 ~ 0)) %>%\n",
    "    set_value_labels(rh_anc_pvskill = c(\"Yes\" = 1, \"No\"=0)) %>%\n",
    "    set_variable_labels(rh_anc_pvskill = \"Skilled assistance during ANC\")\n",
    "\n",
    "  # //Number of ANC visits in 4 categories that match the table in the final report\n",
    "  IRdata <- IRdata %>%\n",
    "    mutate(rh_anc_numvs =\n",
    "            case_when(\n",
    "              m14_1 == 0 ~ 0 ,\n",
    "              m14_1 == 1 ~ 1 ,\n",
    "              m14_1  %in% c(2,3)   ~ 2 ,\n",
    "              m14_1>=4 & m14_1<=90  ~ 3 ,\n",
    "              m14_1>90  ~ 9 ,\n",
    "              age>=period ~ 99 )) %>%\n",
    "    replace_with_na(replace = list(rh_anc_numvs = c(99))) %>%\n",
    "    set_value_labels(rh_anc_numvs = c(none = 0, \"1\" = 1, \"2-3\"=2, \"4+\"=3, \"don't know/missing\"=9  )) %>%\n",
    "    set_variable_labels(rh_anc_numvs = \"Number of ANC visits\")\n",
    "  \n",
    "  # //4+ ANC visits  \n",
    "  IRdata <- IRdata %>%\n",
    "    mutate(rh_anc_4vs =\n",
    "            case_when(\n",
    "              rh_anc_numvs==3 ~ 1,\n",
    "              rh_anc_numvs %in% c(0,1,2,9)   ~ 0 )) %>%\n",
    "    set_value_labels(rh_anc_4vs = c(\"Yes\" = 1, \"No\"=0)) %>%\n",
    "    set_variable_labels(rh_anc_4vs = \"Attended 4+ ANC visits\")\n",
    "  \n",
    "  # //Number of months pregnant at time of first ANC visit\n",
    "  IRdata <- IRdata %>%\n",
    "    mutate(rh_anc_moprg =\n",
    "            case_when(\n",
    "              m14_1 == 0 ~ 0 ,\n",
    "              m13_1  %in% c(0,1,2,3)   ~ 1 ,\n",
    "              m13_1  %in% c(4,5)  ~ 2 ,\n",
    "              m13_1  %in% c(6,7)~ 3,\n",
    "              m13_1>=8 & m13_1<=90 ~ 4, \n",
    "              m13_1>90 & m13_1<100 ~ 9 ,\n",
    "              age>=period ~ 99 )) %>%\n",
    "    replace_with_na(replace = list(rh_anc_moprg = c(99))) %>%\n",
    "    set_value_labels(rh_anc_moprg = c(\"No ANC\" = 0, \"<4\" = 1, \"4-5\"=2, \"6-7\"=3, \"8+\"=4, \"don't know/missing\"=9  )) %>%\n",
    "    set_variable_labels(rh_anc_moprg = \"Number of months pregnant at time of first ANC visit\")\n",
    "\n",
    "  # //ANC before 4 months\n",
    "  IRdata <- IRdata %>%\n",
    "    mutate(rh_anc_4mo =\n",
    "            case_when(\n",
    "              rh_anc_moprg %in% c(0,2,3,4,9)   ~ 0 ,\n",
    "              rh_anc_moprg==1 ~ 1)) %>%\n",
    "    set_value_labels(rh_anc_4mo = c(\"Yes\" = 1, \"No\"=0)) %>%\n",
    "    set_variable_labels(rh_anc_4mo = \"Attended ANC <4 months of pregnancy\")\n",
    "\n",
    "  # //Median number of months pregnant at time of 1st ANC\n",
    "  # * Any ANC visits (for denominator)\n",
    "  IRdata <- IRdata %>%\n",
    "    mutate(ancany =\n",
    "            case_when(\n",
    "              m14_1 %in% c(0,99)   ~ 0 ,\n",
    "              m14_1>=1 & m14_1<=60 | m14_1==98 ~ 1))\n",
    "  IRdata <- IRdata %>%\n",
    "    mutate(anctiming=\n",
    "            case_when(\n",
    "              m13_1 != 98 ~ m13_1,\n",
    "              m13_1 == 98 ~ 99)) %>%    \n",
    "    replace_with_na(replace = list(anctiming = c(99))) \n",
    "\n",
    "\n",
    "  #to obtain the 50% percentile\n",
    "  sp50 <- matrixStats::weightedMedian(IRdata$anctiming, IRdata$wt, idxs = NULL, na.rm = TRUE)\n",
    "\n",
    "  IRdata <- IRdata %>%\n",
    "  mutate(dummy =\n",
    "          case_when(\n",
    "            anctiming<sp50 & ancany==1 ~ 1,\n",
    "            ancany==1 ~ 0  ))\n",
    "  sL <- matrixStats::weightedMean(IRdata$dummy, IRdata$wt, idxs = NULL, na.rm = TRUE)\n",
    "\n",
    "  IRdata <- IRdata %>%\n",
    "    mutate(dummy =\n",
    "            case_when(\n",
    "              anctiming<=sp50 & ancany==1 ~ 1,\n",
    "              ancany==1 ~ 0  ))\n",
    "  sU <- matrixStats::weightedMean(IRdata$dummy, IRdata$wt, idxs = NULL, na.rm = TRUE)\n",
    "\n",
    "  IRdata <- IRdata %>%\n",
    "    mutate(rh_anc_median=round(sp50+(0.5-sL)/(sU-sL),1)) %>%\n",
    "    set_variable_labels(rh_anc_median = \"Total- Median months pregnant at first visit\")\n",
    "\n",
    "  #remove temporary values\n",
    "  rm(sL, sp50, sU)\n",
    "\n",
    "  ### *** ANC components *** ###\n",
    "  if (!\"m45_1\" %in% names(IRdata)){IRdata$m45_1 <- NA}\n",
    "  if (!\"m60_1\" %in% names(IRdata)){IRdata$m60_1 <- NA}\n",
    "\n",
    "  # //Took iron tablets or syrup\n",
    "  IRdata <- IRdata %>%\n",
    "    mutate(rh_anc_iron =\n",
    "            case_when(\n",
    "              m45_1 == 1 ~ 1 ,\n",
    "              v208 ==0 | age>=period ~ 99,\n",
    "              TRUE ~ 0)) %>%\n",
    "    replace_with_na(replace = list(rh_anc_iron = c(99))) %>%\n",
    "    set_value_labels(rh_anc_iron = c(\"No\" = 0, \"Yes\" = 1 )) %>%\n",
    "    set_variable_labels(rh_anc_iron = \"Took iron tablet/syrup during pregnancy of last birth\")\n",
    "\n",
    "  # //Took intestinal parasite drugs \n",
    "  IRdata <- IRdata %>%\n",
    "    mutate(rh_anc_parast =\n",
    "            case_when(\n",
    "              m60_1 == 1 ~ 1 ,\n",
    "              v208 ==0 | age>=period ~ 99,\n",
    "              TRUE ~ 0)) %>%\n",
    "    replace_with_na(replace = list(rh_anc_parast = c(99))) %>%\n",
    "    set_value_labels(rh_anc_parast = c(\"No\" = 0, \"Yes\" = 1 )) %>%\n",
    "    set_variable_labels(rh_anc_parast = \"Took intestinal parasite drugs during pregnancy of last birth\")\n",
    "  \n",
    "  # \t* for surveys that do not have this variable\n",
    "  # \tcap gen rh_anc_parast=.\n",
    "  # \t\n",
    "  # * Among women who had ANC for their most recent birth\t\n",
    "  # \n",
    "  # //Informed of pregnancy complications\n",
    "  # this variable is not always available in the data. Please check.\n",
    "  if (!\"m43_1\" %in% names(IRdata)){IRdata$m43_1 <- NA}\n",
    "  if (!\"m42c_1\" %in% names(IRdata)){IRdata$m42c_1 <- NA}\n",
    "  if (!\"m42d_1\" %in% names(IRdata)){IRdata$m42d_1 <- NA}\n",
    "  if (!\"m42e_1\" %in% names(IRdata)){IRdata$m42e_1 <- NA}\n",
    "\n",
    "  IRdata <- IRdata %>%\n",
    "    mutate(rh_anc_prgcomp =\n",
    "            case_when(\n",
    "              m43_1 == 1 & ancany==1 ~ 1  ,\n",
    "              ancany==1 ~ 0 )) %>%\n",
    "    set_value_labels(rh_anc_prgcomp = c(\"No\" = 0, \"Yes\" = 1 )) %>%\n",
    "    set_variable_labels(rh_anc_prgcomp = \"Informed of pregnancy complications during ANC visit\")\n",
    "\n",
    "  # //Blood pressure measured\n",
    "  IRdata <- IRdata %>%\n",
    "    mutate(rh_anc_bldpres =\n",
    "            case_when(\n",
    "              m42c_1 == 1 & ancany==1 ~ 1  ,\n",
    "              ancany==1 ~ 0 )) %>%\n",
    "    set_value_labels(rh_anc_bldpres = c(\"No\" = 0, \"Yes\" = 1 )) %>%\n",
    "    set_variable_labels(rh_anc_bldpres = \"Blood pressure was taken during ANC visit\")\n",
    "\n",
    "  # //Urine sample taken\n",
    "  IRdata <- IRdata %>%\n",
    "    mutate(rh_anc_urine =\n",
    "            case_when(\n",
    "              m42d_1 == 1 & ancany==1 ~ 1  ,\n",
    "              ancany==1 ~ 0 )) %>%\n",
    "    set_value_labels(rh_anc_urine = c(\"No\" = 0, \"Yes\" = 1 )) %>%\n",
    "    set_variable_labels(rh_anc_urine = \"Urine sample was taken during ANC visit\")\n",
    "\n",
    "  # //Blood sample taken\n",
    "  IRdata <- IRdata %>%\n",
    "    mutate(rh_anc_bldsamp =\n",
    "            case_when(\n",
    "              m42e_1 == 1 & ancany==1 ~ 1  ,\n",
    "              ancany==1 ~ 0 )) %>%\n",
    "    set_value_labels(rh_anc_bldsamp = c(\"No\" = 0, \"Yes\" = 1 )) %>%\n",
    "    set_variable_labels(rh_anc_bldsamp = \"Blood sample was taken during ANC visit\")\n",
    "\n",
    "  # //tetnaus toxoid injections\n",
    "  IRdata <- IRdata %>%\n",
    "    mutate(rh_anc_toxinj =\n",
    "            case_when(\n",
    "              m1_1 >1 & m1_1 <8 ~ 1 ,\n",
    "              v208 ==0 | age>=period ~ 99,\n",
    "              TRUE ~ 0)) %>%\n",
    "    replace_with_na(replace = list(rh_anc_toxinj = c(99))) %>%\n",
    "    set_value_labels(rh_anc_toxinj = c(\"No\" = 0, \"Yes\" = 1 )) %>%\n",
    "    set_variable_labels(rh_anc_toxinj = \"Received 2+ tetanus injections during last pregnancy\")\n",
    "\n",
    "  # //neonatal tetanus\n",
    "  # \t*older surveys do not have this indicator. m1a_1 (number of tetanus injections before pregnancy) is needed to compute this indicator\n",
    "  if (\"TRUE\" %in% (!(\"m1a_1\" %in% names(IRdata))))\n",
    "    IRdata [[paste(\"m1a_1\")]] <- NA\n",
    "  if (\"TRUE\" %in% all(is.na(IRdata $m1a_1)))\n",
    "  { m1a_included <- 0} else { m1a_included <- 1}\n",
    "\n",
    "\n",
    "  # * for surveys that have this indicator\n",
    "  if (m1a_included==1) {\n",
    "  IRdata <- IRdata %>%\n",
    "  mutate(ageyr=as.integer(age/12)) %>%\n",
    "  mutate(tet2lastp=\n",
    "          case_when(\n",
    "                m1_1 >1 & m1_1<8 ~ 1,\n",
    "                TRUE ~ 0)) \n",
    "  IRdata[[\"totet0\"]] <- 0\n",
    "  IRdata[[\"totet0\"]] <- ifelse(!is.na(IRdata[[\"m1_1\"]]) & IRdata[[\"m1_1\"]]>0 & IRdata[[\"m1_1\"]]<8, IRdata[[\"m1_1\"]], 0)\n",
    "  IRdata[[\"totet\"]] <- IRdata[[\"totet0\"]]\n",
    "  IRdata[[\"totet\"]] <- ifelse(!is.na(IRdata[[\"m1a_1\"]]) & IRdata[[\"m1a_1\"]]>0 & IRdata[[\"m1a_1\"]]<8, IRdata[[\"m1a_1\"]] + IRdata[[\"totet0\"]], IRdata[[\"totet0\"]])\n",
    "\n",
    "  IRdata <- IRdata %>%    \n",
    "  mutate(lastinj=\n",
    "          case_when(\n",
    "                m1_1>0 & m1_1 <8 ~ 0,\n",
    "                m1d_1 <20 & (m1_1==0 | (m1_1>7 & m1_1<9996)) ~ (m1d_1 - ageyr),\n",
    "                TRUE ~9999)) %>%\n",
    "    mutate(ttprotect = \n",
    "            case_when(\n",
    "                tet2lastp ==1 ~ 1,\n",
    "                totet>=2 & lastinj<=2 ~ 1,\n",
    "                totet>=3 &  lastinj<=4 ~ 1,\n",
    "                totet>=4 &  lastinj<=9 ~ 1,\n",
    "                totet>=5 ~ 1,\n",
    "                TRUE ~ 0))\n",
    "  IRdata[[\"rh_anc_neotet\"]] <- IRdata[[\"ttprotect\"]]\n",
    "  IRdata[[\"rh_anc_neotet\"]] <- ifelse(IRdata[[\"bidx_01\"]]!=1 | IRdata[[\"age\"]]>=IRdata[[\"period\"]], NA, IRdata[[\"ttprotect\"]])\n",
    "\n",
    "  IRdata <- IRdata %>% \n",
    "    set_value_labels(rh_anc_neotet = c(\"No\" = 0, \"Yes\" = 1 )) %>%\n",
    "    set_variable_labels(rh_anc_neotet = \"Protected against neonatal tetanus\")\n",
    "\n",
    "  #if m1a_1 is not available in the dataset\n",
    "  } else {\n",
    "    IRdata <- IRdata %>%\n",
    "    mutate( rh_anc_neotet =NA)\n",
    "  }\n",
    "\n",
    "  IRdata <- IRdata %>%\n",
    "    dplyr::select(survey, caseid, wt, v001, v002, v021, v023, v024, v025, rh_anc_pv, rh_anc_pvskill, rh_anc_numvs, rh_anc_4vs, rh_anc_moprg, rh_anc_median, rh_anc_iron, rh_anc_parast, rh_anc_prgcomp, rh_anc_bldpres, rh_anc_urine, rh_anc_bldsamp, rh_anc_toxinj, rh_anc_neotet) %>%\n",
    "    dplyr::mutate(across(where(is.labelled), as_factor)) %>%\n",
    "    dplyr::mutate_if(is.factor, as.character) %>%\n",
    "    distinct()\n",
    "\n",
    "rh_indicators <- bind_rows(rh_indicators, IRdata)\n",
    "\n",
    "}\n"
   ]
  },
  {
   "cell_type": "code",
   "execution_count": 0,
   "metadata": {
    "application/vnd.databricks.v1+cell": {
     "cellMetadata": {
      "byteLimit": 2048000,
      "rowLimit": 10000
     },
     "inputWidgets": {},
     "nuid": "89d81380-5468-4383-8c62-b04b484e8430",
     "showTitle": false,
     "tableResultSettingsMap": {},
     "title": ""
    }
   },
   "outputs": [],
   "source": [
    "# rh_indicators1 <- rh_indicators %>%\n",
    "#   dplyr::select(survey, caseid, wt, v001, v002, v021, v023, v024, v025, rh_anc_pv, rh_anc_pvskill, rh_anc_numvs, rh_anc_4vs, rh_anc_moprg, rh_anc_median, rh_anc_iron, rh_anc_parast, rh_anc_prgcomp, rh_anc_bldpres, rh_anc_urine, rh_anc_bldsamp, rh_anc_toxinj, rh_anc_neotet) %>%\n",
    "#   dplyr::mutate(across(where(is.labelled), as_factor)) %>%\n",
    "#   dplyr::mutate_if(is.factor, as.character) %>%\n",
    "#   distinct()\n",
    "\n",
    "rh_indicators1 <- rh_indicators %>%\n",
    "  base::merge(pts_comb1, by=c(\"survey\", \"v001\"), all.x=TRUE) %>%\n",
    "  distinct()\n",
    "\n",
    "display(rh_indicators1)"
   ]
  },
  {
   "cell_type": "code",
   "execution_count": 0,
   "metadata": {
    "application/vnd.databricks.v1+cell": {
     "cellMetadata": {
      "byteLimit": 2048000,
      "rowLimit": 10000
     },
     "inputWidgets": {},
     "nuid": "06df9d8a-c076-4726-ad62-4ff6ec6019dd",
     "showTitle": false,
     "tableResultSettingsMap": {},
     "title": ""
    }
   },
   "outputs": [],
   "source": [
    "# THESE HAVE BOGUS GPS COORDINATES, CAN FIX MOST OF THEM BY HAND USING THE SURVEY STRATIFICATION VARIABLES\n",
    "display(\n",
    "  rh_indicators1 %>%\n",
    "  filter(is.na(admin1)) %>%\n",
    "  group_by(survey) %>%\n",
    "  dplyr::summarize(count = n())\n",
    "  )"
   ]
  },
  {
   "cell_type": "code",
   "execution_count": 0,
   "metadata": {
    "application/vnd.databricks.v1+cell": {
     "cellMetadata": {
      "byteLimit": 2048000,
      "rowLimit": 10000
     },
     "inputWidgets": {},
     "nuid": "bcf39187-f842-42e8-81c7-8c420edd7ecf",
     "showTitle": false,
     "tableResultSettingsMap": {},
     "title": ""
    }
   },
   "outputs": [],
   "source": [
    "rh_indicators1_sdf <- rh_indicators1 %>%\n",
    "  as.DataFrame()"
   ]
  },
  {
   "cell_type": "code",
   "execution_count": 0,
   "metadata": {
    "application/vnd.databricks.v1+cell": {
     "cellMetadata": {
      "byteLimit": 2048000,
      "rowLimit": 10000
     },
     "inputWidgets": {},
     "nuid": "d2355dcf-9544-4883-9a86-c44e834b1621",
     "showTitle": false,
     "tableResultSettingsMap": {},
     "title": ""
    }
   },
   "outputs": [],
   "source": [
    "delta_path = \"abfss://dhs-data@idmdpdls01.dfs.core.windows.net/dhs_indicators/dhs_rh_anc.delta\"\n",
    "dbutils.fs.rm(delta_path, \"true\")\n",
    "write.df(rh_indicators1_sdf, source = 'delta', path = delta_path, mode = 'overwrite')\n",
    "\n",
    "catalog = \"idm_dhs\"\n",
    "schema = \"dhs_indicators\"\n",
    "table_name = \"dhs_rh_anc\"\n",
    "file_path = delta_path\n",
    "\n",
    "# SparkR::sql(paste0(\"CREATE CATALOG IF NOT EXISTS \", catalog))\n",
    "SparkR::sql(paste0(\"CREATE SCHEMA IF NOT EXISTS \", catalog, \".\", schema))\n",
    "SparkR::sql(paste0(\"DROP TABLE IF EXISTS \", catalog, \".\", schema, \".\", table_name))\n",
    "SparkR::createTable(paste0(catalog, \".\", schema, \".\", table_name), path=file_path, source=\"delta\")\n",
    "print(paste0(catalog, \".\", schema, \".\", table_name))"
   ]
  }
 ],
 "metadata": {
  "application/vnd.databricks.v1+notebook": {
   "computePreferences": null,
   "dashboards": [],
   "environmentMetadata": {
    "base_environment": "",
    "client": "1"
   },
   "language": "r",
   "notebookMetadata": {
    "pythonIndentUnit": 4
   },
   "notebookName": "RH_ANC",
   "widgets": {}
  },
  "language_info": {
   "name": "r"
  }
 },
 "nbformat": 4,
 "nbformat_minor": 0
}
