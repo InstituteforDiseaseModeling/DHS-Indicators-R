{
 "cells": [
  {
   "cell_type": "code",
   "execution_count": 0,
   "metadata": {
    "application/vnd.databricks.v1+cell": {
     "cellMetadata": {
      "byteLimit": 2048000,
      "rowLimit": 10000
     },
     "inputWidgets": {},
     "nuid": "76ab5de0-022a-4214-9984-fd3189307f21",
     "showTitle": false,
     "tableResultSettingsMap": {},
     "title": ""
    }
   },
   "outputs": [],
   "source": [
    "#install.packages(\"renv\")\n",
    "#renv::restore()\n",
    "remotes::install_github(\"sparklyr/sparklyr\")"
   ]
  },
  {
   "cell_type": "code",
   "execution_count": 0,
   "metadata": {
    "application/vnd.databricks.v1+cell": {
     "cellMetadata": {
      "byteLimit": 2048000,
      "rowLimit": 10000
     },
     "inputWidgets": {},
     "nuid": "f8968788-e7b4-4694-9457-fc9ac0078382",
     "showTitle": false,
     "tableResultSettingsMap": {},
     "title": ""
    }
   },
   "outputs": [],
   "source": [
    "%scala\n",
    "spark.version\n",
    "util.Properties.versionString"
   ]
  },
  {
   "cell_type": "code",
   "execution_count": 0,
   "metadata": {
    "application/vnd.databricks.v1+cell": {
     "cellMetadata": {
      "byteLimit": 2048000,
      "rowLimit": 10000
     },
     "inputWidgets": {},
     "nuid": "49dd70b9-5ed0-4184-a308-e5dee4d5fa95",
     "showTitle": false,
     "tableResultSettingsMap": {},
     "title": ""
    }
   },
   "outputs": [],
   "source": [
    ".libPaths()\n",
    "list.files(\"/usr/local/lib/R/site-library/sparklyr/java\")\n"
   ]
  },
  {
   "cell_type": "code",
   "execution_count": 0,
   "metadata": {
    "application/vnd.databricks.v1+cell": {
     "cellMetadata": {
      "byteLimit": 2048000,
      "rowLimit": 10000
     },
     "inputWidgets": {},
     "nuid": "549dd937-5714-4c6b-a26d-b95e98af78fa",
     "showTitle": false,
     "tableResultSettingsMap": {},
     "title": ""
    }
   },
   "outputs": [],
   "source": [
    "library(sparklyr)\n",
    "library(DBI)\n",
    "library(dplyr)\n",
    "sc <- spark_connect(method = \"databricks\")\n",
    "DBI::dbGetQuery(sc, \"SHOW TABLES IN dhs.7_recode\")\n",
    "# dbListTables(sc)\n",
    "ir_tbl <- tbl(sc, \"dhs.7_recode.ir\")\n",
    "mr_tbl <- tbl(sc, \"dhs.7_recode.mr\")\n",
    "\n",
    "test_country = \"BD\"\n",
    "ir_tbl %>%\n",
    "  filter (`_cc` == test_country) %>% \n",
    "  spark_write_parquet(path = paste0(\"test_data/IR_\", test_country, \".parquet\"))\n",
    "\n",
    "mr_tbl %>%\n",
    "  filter (`_cc` == test_country) %>%\n",
    "  spark_write_parquet(path = paste0(\"test_data/MR_\", test_country, \".parquet\"))\n"
   ]
  },
  {
   "cell_type": "code",
   "execution_count": 0,
   "metadata": {
    "application/vnd.databricks.v1+cell": {
     "cellMetadata": {
      "byteLimit": 2048000,
      "rowLimit": 10000
     },
     "inputWidgets": {},
     "nuid": "0684d1a7-d66b-43ff-9e31-b1f9c40cc3ae",
     "showTitle": false,
     "tableResultSettingsMap": {},
     "title": ""
    }
   },
   "outputs": [],
   "source": [
    "dbutils.fs.ls(\"dbfs:/test_data/\")\n",
    "\n",
    "# Read saved Parquet files back into Spark\n",
    "IRdata <- spark_read_parquet(sc, path = paste0(\"dbfs:/test_data/IR_\", test_country, \".parquet\"))\n",
    "MRdata <- spark_read_parquet(sc, path = paste0(\"dbfs:/test_data/MR_\", test_country, \".parquet\"))"
   ]
  },
  {
   "cell_type": "code",
   "execution_count": 0,
   "metadata": {
    "application/vnd.databricks.v1+cell": {
     "cellMetadata": {
      "byteLimit": 2048000,
      "rowLimit": 10000
     },
     "inputWidgets": {},
     "nuid": "b4d5211e-b11d-46e5-b763-2c835cafce33",
     "showTitle": false,
     "tableResultSettingsMap": {},
     "title": ""
    }
   },
   "outputs": [],
   "source": [
    "R.version.string\n",
    "# install.packages(\"here\")\n",
    "# install.packages(\"haven\")\n",
    "# install.packages(\"labelled\")\n",
    "# install.packages(\"https://cran.r-project.org/src/contrib/Archive/maditr/maditr_0.8.3.tar.gz\", repos = NULL, type = \"source\")\n",
    "# install.packages(\"expss\", repos = \"https://cloud.r-project.org\")\n",
    "library(here)\n",
    "library(haven)\n",
    "library(labelled)\n",
    "library(expss)\n",
    "chap <- \"Chap07_FP\"\n",
    "\n",
    "IRdata <- as.data.frame(IRdata)\n",
    "MRdata <- as.data.frame(MRdata)\n",
    "\n",
    "source(here(paste0(chap,\"/FP_KNOW.R\")))\n",
    "source(here(paste0(chap,\"/FP_USE.R\")))\n",
    "source(here(paste0(chap,\"/FP_NEED.R\")))\n",
    "source(here(paste0(chap,\"/FP_COMM.R\")))\n",
    "source(here(paste0(chap,\"/FP_microtables.R\")))\n"
   ]
  }
 ],
 "metadata": {
  "application/vnd.databricks.v1+notebook": {
   "computePreferences": null,
   "dashboards": [],
   "environmentMetadata": {
    "base_environment": "",
    "environment_version": "2"
   },
   "inputWidgetPreferences": null,
   "language": "r",
   "notebookMetadata": {
    "pythonIndentUnit": 4
   },
   "notebookName": "Test_Sparklyr_Option2",
   "widgets": {}
  },
  "language_info": {
   "name": "r"
  }
 },
 "nbformat": 4,
 "nbformat_minor": 0
}
