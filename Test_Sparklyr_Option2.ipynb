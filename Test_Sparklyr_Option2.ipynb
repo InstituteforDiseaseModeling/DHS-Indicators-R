{
 "cells": [
  {
   "cell_type": "markdown",
   "metadata": {
    "application/vnd.databricks.v1+cell": {
     "cellMetadata": {},
     "inputWidgets": {},
     "nuid": "982f8106-6c4e-400c-84f5-53736c8c6e36",
     "showTitle": false,
     "tableResultSettingsMap": {},
     "title": ""
    }
   },
   "source": [
    "### INSTALL Packages"
   ]
  },
  {
   "cell_type": "code",
   "execution_count": 0,
   "metadata": {
    "application/vnd.databricks.v1+cell": {
     "cellMetadata": {
      "byteLimit": 2048000,
      "rowLimit": 10000
     },
     "inputWidgets": {},
     "nuid": "76ab5de0-022a-4214-9984-fd3189307f21",
     "showTitle": false,
     "tableResultSettingsMap": {},
     "title": ""
    }
   },
   "outputs": [],
   "source": [
    "install.packages(\"renv\")\n",
    "renv::restore() #TBD fix R version issue\n",
    "remotes::install_github(\"sparklyr/sparklyr\")\n",
    "# install.packages(\"dplyr\")\n",
    "# install.packages(\"purr\")\n",
    "# install.packages(\"here\")\n",
    "# install.packages(\"haven\")\n",
    "# install.packages(\"labelled\")\n",
    "# install.packages(\"sjlabelled\")\n",
    "# install.packages(\"sjmisc\")\n",
    "# install.packages(\"https://cran.r-project.org/src/contrib/Archive/maditr/maditr_0.8.3.tar.gz\", repos = NULL, type = \"source\")\n",
    "# install.packages(\"expss\", repos = \"https://cloud.r-project.org\")"
   ]
  },
  {
   "cell_type": "markdown",
   "metadata": {
    "application/vnd.databricks.v1+cell": {
     "cellMetadata": {},
     "inputWidgets": {},
     "nuid": "699fb427-1182-4960-b164-b4a82428d13d",
     "showTitle": false,
     "tableResultSettingsMap": {},
     "title": ""
    }
   },
   "source": [
    "### Check Scala version"
   ]
  },
  {
   "cell_type": "code",
   "execution_count": 0,
   "metadata": {
    "application/vnd.databricks.v1+cell": {
     "cellMetadata": {
      "byteLimit": 2048000,
      "rowLimit": 10000
     },
     "inputWidgets": {},
     "nuid": "f8968788-e7b4-4694-9457-fc9ac0078382",
     "showTitle": false,
     "tableResultSettingsMap": {},
     "title": ""
    }
   },
   "outputs": [],
   "source": [
    "%scala\n",
    "spark.version\n",
    "util.Properties.versionString"
   ]
  },
  {
   "cell_type": "markdown",
   "metadata": {
    "application/vnd.databricks.v1+cell": {
     "cellMetadata": {},
     "inputWidgets": {},
     "nuid": "2be91e65-d4c7-411f-9244-2702096d59eb",
     "showTitle": false,
     "tableResultSettingsMap": {},
     "title": ""
    }
   },
   "source": [
    "### Check R / Java version if running into error"
   ]
  },
  {
   "cell_type": "code",
   "execution_count": 0,
   "metadata": {
    "application/vnd.databricks.v1+cell": {
     "cellMetadata": {
      "byteLimit": 2048000,
      "rowLimit": 10000
     },
     "inputWidgets": {},
     "nuid": "49dd70b9-5ed0-4184-a308-e5dee4d5fa95",
     "showTitle": false,
     "tableResultSettingsMap": {},
     "title": ""
    }
   },
   "outputs": [],
   "source": [
    ".libPaths()\n",
    "R.Version()$version.string\n",
    "list.files(\"/usr/local/lib/R/site-library\")\n"
   ]
  },
  {
   "cell_type": "markdown",
   "metadata": {
    "application/vnd.databricks.v1+cell": {
     "cellMetadata": {},
     "inputWidgets": {},
     "nuid": "bcdcc08f-568c-4540-b19d-01634a838d2a",
     "showTitle": false,
     "tableResultSettingsMap": {},
     "title": ""
    }
   },
   "source": [
    "### Split the run by parquet"
   ]
  },
  {
   "cell_type": "code",
   "execution_count": 0,
   "metadata": {
    "application/vnd.databricks.v1+cell": {
     "cellMetadata": {
      "byteLimit": 2048000,
      "rowLimit": 10000
     },
     "inputWidgets": {},
     "nuid": "483f916d-2a74-42d8-882b-c18307ad42d6",
     "showTitle": false,
     "tableResultSettingsMap": {},
     "title": ""
    }
   },
   "outputs": [],
   "source": [
    "library(haven)\n",
    "library(labelled)\n",
    "library(expss)\n",
    "library(sparklyr)\n",
    "library(dplyr)\n",
    "library(stringr)\n",
    "library(DBI)\n",
    "library(purrr)\n",
    "library(here)\n",
    "library(arrow)\n",
    "options(sparklyr.log.console = TRUE)\n",
    "source(\"Chap07_FP/run_indicators_spark.R\")\n",
    "options(warn = -1)\n",
    "# Connect to Databricks Spark (adjust config as needed)\n",
    "sc <- spark_connect(method = \"databricks\")\n",
    "\n",
    "sql_query <- \"SELECT \n",
    "  CONCAT(table_catalog, '.', table_schema, '.', table_name) AS view\n",
    "FROM \n",
    "  idm_dhs_recode_dev_01.information_schema.tables\n",
    "WHERE \n",
    " table_schema NOT IN ('information_schema') \n",
    "ORDER BY \n",
    "  table_schema, \n",
    "  table_name;\n",
    "\"\n",
    "# Get all views in the 'dhs_recode' catalog\n",
    "all_views <- dbGetQuery(sc, sql_query)\n",
    "view_names <- all_views$view\n",
    "\n",
    "# Find all IR and MR views for this chapter\n",
    "ir_views <- view_names[grepl(\"ir[0-9]+\", view_names, ignore.case = TRUE)]\n",
    "mr_views <- view_names[grepl(\"mr[0-9]+\", view_names, ignore.case = TRUE)]\n",
    "\n",
    "ir_views\n",
    "mr_views"
   ]
  },
  {
   "cell_type": "markdown",
   "metadata": {
    "application/vnd.databricks.v1+cell": {
     "cellMetadata": {},
     "inputWidgets": {},
     "nuid": "3e57ae2e-280c-4b8a-ada6-2b27df196b5f",
     "showTitle": false,
     "tableResultSettingsMap": {},
     "title": ""
    }
   },
   "source": [
    "### Copy scripts to the driver"
   ]
  },
  {
   "cell_type": "code",
   "execution_count": 0,
   "metadata": {
    "application/vnd.databricks.v1+cell": {
     "cellMetadata": {
      "byteLimit": 2048000,
      "rowLimit": 10000
     },
     "inputWidgets": {},
     "nuid": "8a79716b-86a2-411c-8990-34dfd1095c17",
     "showTitle": false,
     "tableResultSettingsMap": {},
     "title": ""
    }
   },
   "outputs": [],
   "source": [
    "# zip -r Chap07_FP.zip Chap07_FP\n",
    "dbutils.fs.rm(\"dbfs:/tmp/data.zip\")\n",
    "r_files <- list.files(\"Chap07_FP\", pattern = \"\\\\.R$\", full.names=TRUE)\n",
    "r_files\n",
    "files_to_zip <- c(\n",
    "  r_files,\n",
    "  \"renv.lock\",\n",
    "  \"required_col.csv\"\n",
    ")\n",
    "files_to_zip\n",
    "zip::zip(\"data.zip\", files = files_to_zip, mode = \"cherry-pick\", root = \".\")\n",
    "dbutils.fs.cp(\"file:/Workspace/Users/meikang.wu@gatesfoundation.org/DHS-Indicators-R/data.zip\", \"dbfs:/tmp/data.zip\")\n",
    "dbutils.fs.ls(\"dbfs:/tmp/data.zip\")\n"
   ]
  },
  {
   "cell_type": "code",
   "execution_count": 0,
   "metadata": {
    "application/vnd.databricks.v1+cell": {
     "cellMetadata": {
      "byteLimit": 2048000,
      "rowLimit": 10000
     },
     "inputWidgets": {},
     "nuid": "81404913-cb7e-4b0a-ab05-260348fc7953",
     "showTitle": false,
     "tableResultSettingsMap": {},
     "title": ""
    }
   },
   "outputs": [],
   "source": [
    "system(\"cp /dbfs/tmp/data.zip ./data.zip\")\n",
    "zip::zip_list(\"./data.zip\")$filename\n",
    "# unzip(\"./data.zip\", exdir = \"./temp_data\")"
   ]
  },
  {
   "cell_type": "code",
   "execution_count": 0,
   "metadata": {
    "application/vnd.databricks.v1+cell": {
     "cellMetadata": {
      "byteLimit": 2048000,
      "rowLimit": 10000
     },
     "inputWidgets": {},
     "nuid": "2a686d57-1b06-4a8d-bd8d-7129b7568342",
     "showTitle": false,
     "tableResultSettingsMap": {},
     "title": ""
    }
   },
   "outputs": [],
   "source": [
    "chap_num <- \"ch07\"\n",
    "decode_view <- function(view) {\n",
    "  m <- str_match(view, \".([A-z]*)([im]r)([0-9]+)\")\n",
    "  if (is.na(m[1,1])) return(NULL)\n",
    "  list(\n",
    "    country_code = m[1,2],\n",
    "    ir_or_mr = m[1,3],\n",
    "    version = m[1,4],\n",
    "    view = view\n",
    "  )\n",
    "}\n",
    "\n",
    "for (view in ir_views) {\n",
    "  meta <- decode_view(view)\n",
    "  if (is.null(meta)) next\n",
    "  ir_tbl <- tbl(sc, sql(paste0('SELECT * FROM ', view)))\n",
    "  n_rows <- ir_tbl %>% tally() %>% pull(n)\n",
    "  message(paste0(\"process \", meta$country_code))\n",
    "  message(paste0(\"retrieved \", n_rows))\n",
    "  result <- tryCatch(\n",
    "    {\n",
    "      spark_apply(ir_tbl, function(e) {\n",
    "      \n",
    "        tmp_dir <- tempfile(\"dhs_\")\n",
    "        dir.create(tmp_dir)\n",
    "        system(\"cp /dbfs/tmp/data.zip ./data.zip\")\n",
    "        unzip(\"./data.zip\", exdir = tmp_dir)\n",
    "        message(paste0(\"working dir:\", tmp_dir))\n",
    "        # change\n",
    "        setwd(tmp_dir)\n",
    "        # install.packages(\"renv\")\n",
    "        # install.packages(\"here\")\n",
    "        source(\"FP_KNOW.R\")\n",
    "        source(\"FP_USE.R\")\n",
    "        source(\"FP_Need.R\")\n",
    "        source(\"FP_COMM.R\")\n",
    "        source(\"run_indicators_spark.R\")       \n",
    "        run_indicators(IRdata = e)\n",
    "      })\n",
    "\n",
    "    }, \n",
    "    error = function(e) {\n",
    "      message(glue::glue(\"Error processing {view}: {e$message}\"))\n",
    "    NULL\n",
    "    }\n",
    "  )\n",
    "\n",
    "  result %>%\n",
    "  sdf_coalesce(1) %>%\n",
    "  spark_write_csv(\"/dbfs/volume/test_mewu\", paste0(view, \"_\", chap_num, \".csv\"), mode = \"overwrite\")\n",
    "}"
   ]
  },
  {
   "cell_type": "code",
   "execution_count": 0,
   "metadata": {
    "application/vnd.databricks.v1+cell": {
     "cellMetadata": {},
     "inputWidgets": {},
     "nuid": "63c73ce9-0965-403c-a798-b7a4119f2cd7",
     "showTitle": false,
     "tableResultSettingsMap": {},
     "title": ""
    }
   },
   "outputs": [],
   "source": [
    "\n",
    "#   ir_tbl %>% spark_write_parquet(paste0(\"dbfs:/tmp/results/\", meta$country_code,meta$ir_or_mr, meta$version), mode=\"overwrite\")\n",
    "  \n",
    "#   output_path <- paste0(\"/dbfs/tmp/results/\", meta$country_code, meta$ir_or_mr, meta$version)\n",
    "#   parquet_files <- list.files(output_path, pattern = \"\\\\.parquet$\", full.names = TRUE)\n",
    "#   # ir_df <- bind_rows(lapply(parquet_files, read_parquet))\n",
    "#   # ir_df <- collect(ir_tbl)\n",
    "  \n",
    "#   processed_list <- list()\n",
    "#   # Loop through files, read and process\n",
    "#   for (file in parquet_files) {\n",
    "    \n",
    "#     ir_df <- read_parquet(file)  \n",
    "#     if (nrow(ir_df) == 0) {\n",
    "#       message(paste(\"Skipping empty file:\", file))\n",
    "#       next\n",
    "#     }\n",
    "#     processed_df <- tryCatch(\n",
    "#       {      \n",
    "#         message(paste0(\"run batch \", length(processed_list)))\n",
    "#         message(paste0(\"filename: \", file))\n",
    "#         message(paste0(\"data size:\", nrow(ir_df)))\n",
    "#         processed_df <- run_indicators(IRdata = ir_df, MRdata = NULL)\n",
    "#       },\n",
    "#       error = function(e) {\n",
    "#         message(\"run_indicators() failed: \", e$message)\n",
    "#         NULL\n",
    "#       }\n",
    "#     )\n",
    "#     processed_list[[length(processed_list) + 1]] <- processed_df\n",
    "#   }\n",
    "\n",
    "#   out <- bind_rows(processed_list)\n",
    "#   message(paste0(\"total data size:\", nrow(out)))\n",
    "#   message(paste0(\"save final result for \", meta$view))\n",
    "#   if (!is.null(out)) {\n",
    "#     out$filename <- view\n",
    "#     out$country <- meta$country_code\n",
    "#     out_path <- file.path(\"/dbfs/tmp/variables\", paste0(view, \"_\", chap_num, \".csv\"))\n",
    "  \n",
    "#     dir.create(dirname(out_path), recursive = TRUE, showWarnings = FALSE)\n",
    "#     write.csv(out, out_path, row.names = FALSE)\n",
    "#     } else {\n",
    "#       message(paste0(\"No file Saved Error occured: \", meta$view))\n",
    "#     }\n",
    "# }\n",
    "\n"
   ]
  },
  {
   "cell_type": "markdown",
   "metadata": {
    "application/vnd.databricks.v1+cell": {
     "cellMetadata": {},
     "inputWidgets": {},
     "nuid": "0d001842-fe49-4c84-a726-3f7a7930b5d0",
     "showTitle": false,
     "tableResultSettingsMap": {},
     "title": ""
    }
   },
   "source": [
    "### Check if file exists"
   ]
  },
  {
   "cell_type": "code",
   "execution_count": 0,
   "metadata": {
    "application/vnd.databricks.v1+cell": {
     "cellMetadata": {
      "byteLimit": 2048000,
      "rowLimit": 10000
     },
     "inputWidgets": {},
     "nuid": "f53262e7-788c-40a4-93af-be84a701c2ed",
     "showTitle": false,
     "tableResultSettingsMap": {},
     "title": ""
    }
   },
   "outputs": [],
   "source": [
    "%scala\n",
    "// dbutils.fs.ls(\"dbfs:/tmp/results/\")\n",
    "dbutils.fs.ls(\"dbfs:/tmp/variables/\")\n",
    "// dbutils.fs.rm(\"dbfs:/tmp/results/\", recurse=true)"
   ]
  },
  {
   "cell_type": "markdown",
   "metadata": {
    "application/vnd.databricks.v1+cell": {
     "cellMetadata": {},
     "inputWidgets": {},
     "nuid": "011f94a3-8e18-4758-8447-2567c2752d48",
     "showTitle": false,
     "tableResultSettingsMap": {},
     "title": ""
    }
   },
   "source": [
    "### Preview one micro level file"
   ]
  },
  {
   "cell_type": "code",
   "execution_count": 0,
   "metadata": {
    "application/vnd.databricks.v1+cell": {
     "cellMetadata": {
      "byteLimit": 2048000,
      "rowLimit": 10000
     },
     "inputWidgets": {},
     "nuid": "5d4a444d-b306-4192-b04b-11caacb28c9d",
     "showTitle": false,
     "tableResultSettingsMap": {},
     "title": ""
    }
   },
   "outputs": [],
   "source": [
    "csv_path <- \"/dbfs/tmp/variables/dhs_recode.af.afir71_ch07.csv\"\n",
    "df_preview <- read.csv(csv_path, nrows = 1000)\n",
    "head(df_preview)\n",
    "\n"
   ]
  }
 ],
 "metadata": {
  "application/vnd.databricks.v1+notebook": {
   "computePreferences": null,
   "dashboards": [],
   "environmentMetadata": {
    "base_environment": "",
    "environment_version": "2"
   },
   "inputWidgetPreferences": null,
   "language": "r",
   "notebookMetadata": {
    "mostRecentlyExecutedCommandWithImplicitDF": {
     "commandId": 7073797483931099,
     "dataframes": [
      "_sqldf"
     ]
    },
    "pythonIndentUnit": 4
   },
   "notebookName": "Test_Sparklyr_Option2",
   "widgets": {}
  },
  "language_info": {
   "name": "r"
  }
 },
 "nbformat": 4,
 "nbformat_minor": 0
}
