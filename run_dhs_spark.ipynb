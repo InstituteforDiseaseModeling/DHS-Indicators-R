{
 "cells": [
  {
   "cell_type": "code",
   "execution_count": 0,
   "metadata": {
    "application/vnd.databricks.v1+cell": {
     "cellMetadata": {
      "byteLimit": 2048000,
      "rowLimit": 10000
     },
     "inputWidgets": {},
     "nuid": "afa87c4f-5bf9-425d-a869-9093b2d06fca",
     "showTitle": false,
     "tableResultSettingsMap": {},
     "title": ""
    }
   },
   "outputs": [],
   "source": [
    "# Setup the environment\n",
    "options('box.path'=getwd())\n",
    "library(arrow)\n",
    "box::use(dplyr[...], sparklyr[...], etl/io, etl/metadata, etl/pipeline)\n",
    "\n",
    "# Connect to Databricks\n",
    "sc <- spark_connect(method = \"databricks\")"
   ]
  },
  {
   "cell_type": "code",
   "execution_count": 0,
   "metadata": {
    "application/vnd.databricks.v1+cell": {
     "cellMetadata": {
      "byteLimit": 2048000,
      "rowLimit": 10000
     },
     "inputWidgets": {},
     "nuid": "703e57c7-64db-49a9-8e4c-8733eaacf7c4",
     "showTitle": false,
     "tableResultSettingsMap": {},
     "title": ""
    }
   },
   "outputs": [],
   "source": [
    "# Load the module corresponding to the chapter to process\n",
    "box::use(Chap07_FP/chapter)"
   ]
  },
  {
   "cell_type": "code",
   "execution_count": 0,
   "metadata": {
    "application/vnd.databricks.v1+cell": {
     "cellMetadata": {
      "byteLimit": 2048000,
      "rowLimit": 10000
     },
     "inputWidgets": {},
     "nuid": "10461280-b3e4-4a5b-9689-94f0ca2355cc",
     "showTitle": false,
     "tableResultSettingsMap": {},
     "title": ""
    }
   },
   "outputs": [],
   "source": [
    "# List of countries for which to generate indicators\n",
    "countries <- io$batch_collect(tbl(sc, sql(\"SELECT DISTINCT _cc FROM dhs.7_recode.ir ORDER BY _cc\")))$`_cc`\n",
    "\n",
    "# Process for DHS-7\n",
    "phase = \"7\""
   ]
  },
  {
   "cell_type": "code",
   "execution_count": 0,
   "metadata": {
    "application/vnd.databricks.v1+cell": {
     "cellMetadata": {
      "byteLimit": 2048000,
      "rowLimit": 10000
     },
     "inputWidgets": {},
     "nuid": "a8d6811c-9a48-4def-8804-a0b9250fd4f7",
     "showTitle": false,
     "tableResultSettingsMap": {},
     "title": ""
    }
   },
   "outputs": [],
   "source": [
    "# Run the indicator pipeline for each country\n",
    "for (country in countries) {\n",
    "  message(paste0(\"Generating indicators for \", country))\n",
    "  pipeline$run(sc, chapter, phase, c(country))\n",
    "}"
   ]
  }
 ],
 "metadata": {
  "application/vnd.databricks.v1+notebook": {
   "computePreferences": null,
   "dashboards": [],
   "environmentMetadata": {
    "base_environment": "",
    "environment_version": "2"
   },
   "inputWidgetPreferences": null,
   "language": "r",
   "notebookMetadata": {
    "pythonIndentUnit": 4
   },
   "notebookName": "run_dhs_spark",
   "widgets": {}
  },
  "language_info": {
   "name": "r"
  }
 },
 "nbformat": 4,
 "nbformat_minor": 0
}
